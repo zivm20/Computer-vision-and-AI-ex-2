{
 "cells": [
  {
   "cell_type": "code",
   "execution_count": 1,
   "metadata": {},
   "outputs": [
    {
     "data": {
      "text/plain": [
       "\"\\n# this mounts your Google Drive to the Colab VM.\\nfrom google.colab import drive\\ndrive.mount('/content/drive', force_remount=True)\\n\\n\\n\\n# now that we've mounted your Drive, this ensures that\\n# the Python interpreter of the Colab VM can load\\n# python files from within it.\\nimport sys\\nsys.path.append('/content/drive/My Drive/{}'.format(FOLDERNAME))\\n\\n# this downloads the CIFAR-10 dataset to your Drive\\n# if it doesn't already exist.\\n%cd drive/My\\\\ Drive/$FOLDERNAME/CV7062610/datasets/\\n!bash get_datasets.sh\\n%cd /content\\n\""
      ]
     },
     "execution_count": 1,
     "metadata": {},
     "output_type": "execute_result"
    }
   ],
   "source": [
    "# enter the foldername in your Drive where you have saved the unzipped\n",
    "# assignment folder, e.g. 'CV7062610/assignments/assignment3/'\n",
    "FOLDERNAME = \"assignment2\"\n",
    "assert FOLDERNAME is not None, \"[!] Enter the foldername.\"\n",
    "\"\"\"\n",
    "# this mounts your Google Drive to the Colab VM.\n",
    "from google.colab import drive\n",
    "drive.mount('/content/drive', force_remount=True)\n",
    "\n",
    "\n",
    "\n",
    "# now that we've mounted your Drive, this ensures that\n",
    "# the Python interpreter of the Colab VM can load\n",
    "# python files from within it.\n",
    "import sys\n",
    "sys.path.append('/content/drive/My Drive/{}'.format(FOLDERNAME))\n",
    "\n",
    "# this downloads the CIFAR-10 dataset to your Drive\n",
    "# if it doesn't already exist.\n",
    "%cd drive/My\\ Drive/$FOLDERNAME/CV7062610/datasets/\n",
    "!bash get_datasets.sh\n",
    "%cd /content\n",
    "\"\"\""
   ]
  },
  {
   "cell_type": "markdown",
   "metadata": {
    "tags": [
     "pdf-title"
    ]
   },
   "source": [
    "# Fully-Connected Neural Nets\n",
    "In the previous homework you implemented a fully-connected two-layer neural network on CIFAR-10. The implementation was simple but not very modular since the loss and gradient were computed in a single monolithic function. This is manageable for a simple two-layer network, but would become impractical as we move to bigger models. Ideally we want to build networks using a more modular design so that we can implement different layer types in isolation and then snap them together into models with different architectures."
   ]
  },
  {
   "cell_type": "markdown",
   "metadata": {
    "tags": [
     "pdf-ignore"
    ]
   },
   "source": [
    "In this exercise we will implement fully-connected networks using a more modular approach. For each layer we will implement a `forward` and a `backward` function. The `forward` function will receive inputs, weights, and other parameters and will return both an output and a `cache` object storing data needed for the backward pass, like this:\n",
    "\n",
    "```python\n",
    "def layer_forward(x, w):\n",
    "  \"\"\" Receive inputs x and weights w \"\"\"\n",
    "  # Do some computations ...\n",
    "  z = # ... some intermediate value\n",
    "  # Do some more computations ...\n",
    "  out = # the output\n",
    "   \n",
    "  cache = (x, w, z, out) # Values we need to compute gradients\n",
    "   \n",
    "  return out, cache\n",
    "```\n",
    "\n",
    "The backward pass will receive upstream derivatives and the `cache` object, and will return gradients with respect to the inputs and weights, like this:\n",
    "\n",
    "```python\n",
    "def layer_backward(dout, cache):\n",
    "  \"\"\"\n",
    "  Receive dout (derivative of loss with respect to outputs) and cache,\n",
    "  and compute derivative with respect to inputs.\n",
    "  \"\"\"\n",
    "  # Unpack cache values\n",
    "  x, w, z, out = cache\n",
    "  \n",
    "  # Use values in cache to compute derivatives\n",
    "  dx = # Derivative of loss with respect to x\n",
    "  dw = # Derivative of loss with respect to w\n",
    "  \n",
    "  return dx, dw\n",
    "```\n",
    "\n",
    " \n",
    "After implementing a bunch of layers this way, we will be able to easily combine them to build classifiers with different architectures.\n",
    "\n",
    "In addition to implementing fully-connected networks of arbitrary depth,(in the second part of the assingment) we will explore different update rules for optimization, and introduce Dropout as a regularizer and Batch/Layer Normalization as a tool to more efficiently optimize deep networks.\n",
    "  "
   ]
  },
  {
   "cell_type": "code",
   "execution_count": 2,
   "metadata": {
    "tags": [
     "pdf-ignore"
    ]
   },
   "outputs": [
    {
     "name": "stdout",
     "output_type": "stream",
     "text": [
      "=========== You can safely ignore the message below if you are NOT working on ConvolutionalNetworks.ipynb ===========\n",
      "\tYou will need to compile a Cython extension for a portion of this assignment.\n",
      "\tThe instructions to do this will be given in a section of the notebook below.\n",
      "\tThere will be an option for Colab users and another for Jupyter (local) users.\n"
     ]
    }
   ],
   "source": [
    "# As usual, a bit of setup\n",
    "from __future__ import print_function\n",
    "import time\n",
    "import numpy as np\n",
    "import matplotlib.pyplot as plt\n",
    "from CV7062610.classifiers.fc_net import *\n",
    "from CV7062610.data_utils import get_CIFAR10_data\n",
    "from CV7062610.gradient_check import eval_numerical_gradient, eval_numerical_gradient_array\n",
    "from CV7062610.solver import Solver\n",
    "\n",
    "%matplotlib inline\n",
    "plt.rcParams['figure.figsize'] = (10.0, 8.0) # set default size of plots\n",
    "plt.rcParams['image.interpolation'] = 'nearest'\n",
    "plt.rcParams['image.cmap'] = 'gray'\n",
    "\n",
    "# for auto-reloading external modules\n",
    "# see http://stackoverflow.com/questions/1907993/autoreload-of-modules-in-ipython\n",
    "%load_ext autoreload\n",
    "%autoreload 2\n",
    "\n",
    "def rel_error(x, y):\n",
    "  \"\"\" returns relative error \"\"\"\n",
    "  return np.max(np.abs(x - y) / (np.maximum(1e-8, np.abs(x) + np.abs(y))))"
   ]
  },
  {
   "cell_type": "code",
   "execution_count": 3,
   "metadata": {},
   "outputs": [],
   "source": [
    "a=np.array([1,1,1])\n",
    "b=np.arange(18).reshape((3,6))\n"
   ]
  },
  {
   "cell_type": "code",
   "execution_count": 4,
   "metadata": {},
   "outputs": [
    {
     "data": {
      "text/plain": [
       "(array([ 6.,  7.,  8.,  9., 10., 11.]),\n",
       " array([ 6.,  7.,  8.,  9., 10., 11.]),\n",
       " array([[ 0,  1,  2,  3,  4,  5],\n",
       "        [ 6,  7,  8,  9, 10, 11],\n",
       "        [12, 13, 14, 15, 16, 17]]))"
      ]
     },
     "execution_count": 4,
     "metadata": {},
     "output_type": "execute_result"
    }
   ],
   "source": [
    "a@b/3, b.mean(axis=0),b"
   ]
  },
  {
   "cell_type": "code",
   "execution_count": 5,
   "metadata": {},
   "outputs": [
    {
     "data": {
      "text/plain": [
       "(array([24., 24., 24., 24., 24., 24.]), array([24., 24., 24., 24., 24., 24.]))"
      ]
     },
     "execution_count": 5,
     "metadata": {},
     "output_type": "execute_result"
    }
   ],
   "source": [
    "a@((b-a@b/3)**2)/3,b.var(axis=0)"
   ]
  },
  {
   "cell_type": "code",
   "execution_count": 6,
   "metadata": {},
   "outputs": [
    {
     "name": "stdout",
     "output_type": "stream",
     "text": [
      "mean: 0.0\n",
      "var: 0.0\n",
      "mean: 0.0\n",
      "var: 0.0\n",
      "mean: 0.0\n",
      "var: 0.0\n",
      "mean: 0.0\n",
      "var: 0.0\n",
      "mean: 0.0\n",
      "var: 0.0\n",
      "mean: 0.0\n",
      "var: 0.0\n",
      "mean: 8.36735125631094e-11\n",
      "var: 2.1327286958694458e-07\n",
      "mean: 0.0\n",
      "var: 0.0\n",
      "mean: 0.0\n",
      "var: 0.0\n",
      "mean: 0.0\n",
      "var: 0.0\n"
     ]
    }
   ],
   "source": [
    "for i in range(10):\n",
    "    b = np.random.rand(np.random.randint(1,1000),np.random.randint(1,1000))*10000 - 10000\n",
    "    a = np.ones(b.shape[0])\n",
    "    print(\"mean:\",np.sum(np.abs((a@b/b.shape[0])-b.mean(axis=0))))\n",
    "    print(\"var:\",np.sum(np.abs((a@((b-a@b/b.shape[0])**2)/b.shape[0])-b.var(axis=0))))"
   ]
  },
  {
   "cell_type": "code",
   "execution_count": 7,
   "metadata": {
    "tags": [
     "pdf-ignore"
    ]
   },
   "outputs": [
    {
     "name": "stdout",
     "output_type": "stream",
     "text": [
      "('X_train: ', (49000, 3, 32, 32))\n",
      "('y_train: ', (49000,))\n",
      "('X_val: ', (1000, 3, 32, 32))\n",
      "('y_val: ', (1000,))\n",
      "('X_test: ', (1000, 3, 32, 32))\n",
      "('y_test: ', (1000,))\n"
     ]
    }
   ],
   "source": [
    "# Load the (preprocessed) CIFAR10 data.\n",
    "\n",
    "data = get_CIFAR10_data()\n",
    "for k, v in list(data.items()):\n",
    "  print(('%s: ' % k, v.shape))"
   ]
  },
  {
   "cell_type": "markdown",
   "metadata": {},
   "source": [
    "# Affine layer (fully-conected): forward\n",
    "Open the file `CV7062610/layers.py` and implement the `affine_forward` function.\n",
    "\n",
    "Once you are done you can test your implementaion by running the following:"
   ]
  },
  {
   "cell_type": "code",
   "execution_count": 8,
   "metadata": {},
   "outputs": [
    {
     "name": "stdout",
     "output_type": "stream",
     "text": [
      "Testing affine_forward function:\n",
      "difference:  9.769848888397517e-10\n"
     ]
    }
   ],
   "source": [
    "# Test the affine_forward function\n",
    "\n",
    "num_inputs = 2\n",
    "input_shape = (4, 5, 6)\n",
    "output_dim = 3\n",
    "\n",
    "input_size = num_inputs * np.prod(input_shape)\n",
    "weight_size = output_dim * np.prod(input_shape)\n",
    "\n",
    "x = np.linspace(-0.1, 0.5, num=input_size).reshape(num_inputs, *input_shape)\n",
    "w = np.linspace(-0.2, 0.3, num=weight_size).reshape(np.prod(input_shape), output_dim)\n",
    "b = np.linspace(-0.3, 0.1, num=output_dim)\n",
    "\n",
    "out, _ = affine_forward(x, w, b)\n",
    "correct_out = np.array([[ 1.49834967,  1.70660132,  1.91485297],\n",
    "                        [ 3.25553199,  3.5141327,   3.77273342]])\n",
    "\n",
    "# Compare your output with ours. The error should be around e-9 or less.\n",
    "print('Testing affine_forward function:')\n",
    "print('difference: ', rel_error(out, correct_out))\n",
    "\n"
   ]
  },
  {
   "attachments": {},
   "cell_type": "markdown",
   "metadata": {},
   "source": [
    "# Affine layer: backward\n",
    "Now implement the `affine_backward` function and test your implementation using numeric gradient checking."
   ]
  },
  {
   "cell_type": "code",
   "execution_count": 9,
   "metadata": {},
   "outputs": [
    {
     "name": "stdout",
     "output_type": "stream",
     "text": [
      "Testing affine_backward function:\n",
      "dx error:  1.0908199508708189e-10\n",
      "dw error:  2.1752635504596857e-10\n",
      "db error:  7.736978834487815e-12\n"
     ]
    }
   ],
   "source": [
    "# Test the affine_backward function\n",
    "np.random.seed(231)\n",
    "x = np.random.randn(10, 2, 3)\n",
    "w = np.random.randn(6, 5)\n",
    "b = np.random.randn(5)\n",
    "dout = np.random.randn(10, 5)\n",
    "\n",
    "dx_num = eval_numerical_gradient_array(lambda x: affine_forward(x, w, b)[0], x, dout)\n",
    "dw_num = eval_numerical_gradient_array(lambda w: affine_forward(x, w, b)[0], w, dout)\n",
    "db_num = eval_numerical_gradient_array(lambda b: affine_forward(x, w, b)[0], b, dout)\n",
    "\n",
    "_, cache = affine_forward(x, w, b)\n",
    "dx, dw, db = affine_backward(dout, cache)\n",
    "\n",
    "# The error should be around e-10 or less\n",
    "print('Testing affine_backward function:')\n",
    "print('dx error: ', rel_error(dx_num, dx))\n",
    "print('dw error: ', rel_error(dw_num, dw))\n",
    "print('db error: ', rel_error(db_num, db))"
   ]
  },
  {
   "attachments": {},
   "cell_type": "markdown",
   "metadata": {},
   "source": [
    "# bachnorm layer: backward\n"
   ]
  },
  {
   "cell_type": "code",
   "execution_count": 10,
   "metadata": {},
   "outputs": [
    {
     "name": "stdout",
     "output_type": "stream",
     "text": [
      "Testing affine_backward function:\n",
      "dx error:  2.741874043266423e-09\n",
      "dw error:  1.4866816289494283e-11\n",
      "db error:  3.2756955047236707e-12\n",
      "[[ 4.21698099e+00  8.88614892e-02  5.99731122e-01]\n",
      " [-9.98862658e-01 -1.62357556e-01  2.30464377e-03]\n",
      " [-1.74242767e-01  2.93993602e-01  4.59395517e-01]\n",
      " [-1.13383461e+00  2.70282856e-02 -7.78963893e-01]\n",
      " [ 5.52954478e-03 -1.93912610e-01 -6.25584154e-01]\n",
      " [ 3.38350356e-02 -1.40124044e-02  5.96860455e-01]\n",
      " [-3.25597285e+00  1.13751677e-01  4.99200290e-01]\n",
      " [ 5.97252799e-01 -1.38739710e+00  8.41235921e-01]\n",
      " [ 1.93132571e+00  2.16353168e-01 -1.09558713e+00]\n",
      " [ 7.82276344e-02 -1.52356658e-01 -1.22670491e+00]\n",
      " [-2.29667964e+00  2.19024071e-01 -6.14110102e-01]\n",
      " [-1.31846759e+00  7.40489907e-02 -7.20622921e-01]\n",
      " [ 1.36663490e+00  4.07999488e-01  2.78298289e-01]\n",
      " [ 6.80293274e-01  2.10689517e-01 -2.18965386e-02]\n",
      " [-1.94647773e+00  1.65682652e-02  2.84019446e-02]\n",
      " [ 7.27054874e-01  2.63818530e-01  1.02290461e+00]\n",
      " [ 2.03591014e+00 -3.30193505e-01  2.98144768e-03]\n",
      " [-7.62264824e-01  2.28697784e-02  1.29980479e+00]\n",
      " [ 1.52922759e+00 -1.13430890e-01  2.06761009e-01]\n",
      " [-1.31546982e+00  3.98653862e-01 -7.54410381e-01]] [[ 4.21698099e+00  8.88614892e-02  5.99731122e-01]\n",
      " [-9.98862658e-01 -1.62357556e-01  2.30464377e-03]\n",
      " [-1.74242767e-01  2.93993602e-01  4.59395517e-01]\n",
      " [-1.13383461e+00  2.70282856e-02 -7.78963893e-01]\n",
      " [ 5.52954481e-03 -1.93912610e-01 -6.25584154e-01]\n",
      " [ 3.38350356e-02 -1.40124044e-02  5.96860455e-01]\n",
      " [-3.25597285e+00  1.13751677e-01  4.99200290e-01]\n",
      " [ 5.97252799e-01 -1.38739710e+00  8.41235921e-01]\n",
      " [ 1.93132571e+00  2.16353168e-01 -1.09558713e+00]\n",
      " [ 7.82276344e-02 -1.52356658e-01 -1.22670491e+00]\n",
      " [-2.29667964e+00  2.19024071e-01 -6.14110102e-01]\n",
      " [-1.31846759e+00  7.40489907e-02 -7.20622921e-01]\n",
      " [ 1.36663490e+00  4.07999488e-01  2.78298289e-01]\n",
      " [ 6.80293274e-01  2.10689517e-01 -2.18965386e-02]\n",
      " [-1.94647773e+00  1.65682652e-02  2.84019446e-02]\n",
      " [ 7.27054874e-01  2.63818530e-01  1.02290461e+00]\n",
      " [ 2.03591014e+00 -3.30193505e-01  2.98144768e-03]\n",
      " [-7.62264824e-01  2.28697783e-02  1.29980479e+00]\n",
      " [ 1.52922759e+00 -1.13430890e-01  2.06761009e-01]\n",
      " [-1.31546982e+00  3.98653862e-01 -7.54410381e-01]]\n"
     ]
    }
   ],
   "source": [
    "# Test the affine_backward function\n",
    "np.random.seed(231)\n",
    "x = np.random.randn(20, 3)\n",
    "gamma = np.random.randn(3)\n",
    "beta = np.random.randn(3)\n",
    "dout = np.random.randn(20, 3)\n",
    "bn_params={}\n",
    "bn_params[\"mode\"]='check'\n",
    "\n",
    "dx_num = eval_numerical_gradient_array(lambda x: bachnorm_foward(x, gamma,beta, bn_params)[0], x, dout)\n",
    "\n",
    "dgamma_num = eval_numerical_gradient_array(lambda gamma: bachnorm_foward(x, gamma,beta, bn_params)[0], gamma, dout)\n",
    "dbeta_num = eval_numerical_gradient_array(lambda beta: bachnorm_foward(x, gamma,beta, bn_params)[0], beta, dout)\n",
    "\n",
    "_, cache = bachnorm_foward(x, gamma, beta,bn_params)\n",
    "dx, dgamma, dbeta = bachnorm_backward(dout, cache)\n",
    "\n",
    "# The error should be around e-10 or less\n",
    "print('Testing affine_backward function:')\n",
    "print('dx error: ', rel_error(dx_num, dx))\n",
    "print('dw error: ', rel_error(dgamma_num, dgamma))\n",
    "print('db error: ', rel_error(dbeta_num, dbeta))\n",
    "print(dx_num,dx)"
   ]
  },
  {
   "cell_type": "markdown",
   "metadata": {},
   "source": [
    "# ReLU activation: forward\n",
    "Implement the forward pass for the ReLU activation function in the `relu_forward` function and test your implementation using the following:"
   ]
  },
  {
   "cell_type": "code",
   "execution_count": 11,
   "metadata": {},
   "outputs": [
    {
     "name": "stdout",
     "output_type": "stream",
     "text": [
      "Testing relu_forward function:\n",
      "difference:  4.999999798022158e-08\n"
     ]
    }
   ],
   "source": [
    "# Test the relu_forward function\n",
    "\n",
    "x = np.linspace(-0.5, 0.5, num=12).reshape(3, 4)\n",
    "\n",
    "out, _ = relu_forward(x)\n",
    "correct_out = np.array([[ 0.,          0.,          0.,          0.,        ],\n",
    "                        [ 0.,          0.,          0.04545455,  0.13636364,],\n",
    "                        [ 0.22727273,  0.31818182,  0.40909091,  0.5,       ]])\n",
    "\n",
    "# Compare your output with ours. The error should be on the order of e-8\n",
    "print('Testing relu_forward function:')\n",
    "print('difference: ', rel_error(out, correct_out))"
   ]
  },
  {
   "cell_type": "markdown",
   "metadata": {},
   "source": [
    "# ReLU activation: backward\n",
    "Now implement the backward pass for the ReLU activation function in the `relu_backward` function and test your implementation using numeric gradient checking:"
   ]
  },
  {
   "cell_type": "code",
   "execution_count": 12,
   "metadata": {},
   "outputs": [
    {
     "name": "stdout",
     "output_type": "stream",
     "text": [
      "Testing relu_backward function:\n",
      "dx error:  3.2756349136310288e-12\n"
     ]
    }
   ],
   "source": [
    "np.random.seed(231)\n",
    "x = np.random.randn(10, 10)\n",
    "dout = np.random.randn(*x.shape)\n",
    "\n",
    "dx_num = eval_numerical_gradient_array(lambda x: relu_forward(x)[0], x, dout)\n",
    "\n",
    "_, cache = relu_forward(x)\n",
    "dx = relu_backward(dout, cache)\n",
    "\n",
    "# The error should be on the order of e-12\n",
    "print('Testing relu_backward function:')\n",
    "print('dx error: ', rel_error(dx_num, dx))"
   ]
  },
  {
   "cell_type": "markdown",
   "metadata": {
    "tags": [
     "pdf-inline"
    ]
   },
   "source": [
    "## Inline Question 1: \n",
    "\n",
    "We've only asked you to implement ReLU, but there are a number of different activation functions that one could use in neural networks, each with its pros and cons. In particular, an issue commonly seen with activation functions is getting zero (or close to zero) gradient flow during backpropagation. Which of the following activation functions have this problem? If you consider these functions in the one dimensional case, what types of input would lead to this behaviour?\n",
    "1. Sigmoid\n",
    "2. ReLU\n",
    "3. Leaky ReLU\n",
    "\n",
    "## Answer:\n",
    "[FILL THIS IN]\n"
   ]
  },
  {
   "cell_type": "markdown",
   "metadata": {},
   "source": [
    "# \"Sandwich\" layers\n",
    "There are some common patterns of layers that are frequently used in neural nets. For example, affine layers are frequently followed by a ReLU nonlinearity. To make these common patterns easy, we define several convenience layers in the file `CV7062610/layer_utils.py`.\n",
    "\n",
    "For now take a look at the `affine_relu_forward` and `affine_relu_backward` functions, and run the following to numerically gradient check the backward pass:"
   ]
  },
  {
   "cell_type": "code",
   "execution_count": 13,
   "metadata": {},
   "outputs": [
    {
     "name": "stdout",
     "output_type": "stream",
     "text": [
      "Testing affine_relu_forward and affine_relu_backward:\n",
      "dx error:  6.395535042049294e-11\n",
      "dw error:  8.162015570444288e-11\n",
      "db error:  7.826724021458994e-12\n"
     ]
    }
   ],
   "source": [
    "from CV7062610.layer_utils import affine_relu_forward, affine_relu_backward\n",
    "np.random.seed(231)\n",
    "x = np.random.randn(2, 3, 4)\n",
    "w = np.random.randn(12, 10)\n",
    "b = np.random.randn(10)\n",
    "dout = np.random.randn(2, 10)\n",
    "\n",
    "out, cache = affine_relu_forward(x, w, b)\n",
    "dx, dw, db = affine_relu_backward(dout, cache)\n",
    "\n",
    "dx_num = eval_numerical_gradient_array(lambda x: affine_relu_forward(x, w, b)[0], x, dout)\n",
    "dw_num = eval_numerical_gradient_array(lambda w: affine_relu_forward(x, w, b)[0], w, dout)\n",
    "db_num = eval_numerical_gradient_array(lambda b: affine_relu_forward(x, w, b)[0], b, dout)\n",
    "\n",
    "# Relative error should be around e-10 or less\n",
    "print('Testing affine_relu_forward and affine_relu_backward:')\n",
    "print('dx error: ', rel_error(dx_num, dx))\n",
    "print('dw error: ', rel_error(dw_num, dw))\n",
    "print('db error: ', rel_error(db_num, db))"
   ]
  },
  {
   "cell_type": "markdown",
   "metadata": {},
   "source": [
    "# Loss layers: Softmax\n",
    "You implemented this loss functions in the last assignment, so we'll give it to you for free here. You should still make sure you understand how it work by looking at the implementations in `CV7062610/layers.py`.\n",
    "\n",
    "You can make sure that the implementations are correct by running the following:"
   ]
  },
  {
   "cell_type": "code",
   "execution_count": 14,
   "metadata": {},
   "outputs": [
    {
     "name": "stdout",
     "output_type": "stream",
     "text": [
      "\n",
      "Testing softmax_loss:\n",
      "loss:  2.3025458445007376\n",
      "dx error:  6.2243422477091075e-09\n"
     ]
    }
   ],
   "source": [
    "np.random.seed(231)\n",
    "num_classes, num_inputs = 10, 50\n",
    "x = 0.001 * np.random.randn(num_inputs, num_classes)\n",
    "y = np.random.randint(num_classes, size=num_inputs)\n",
    "\n",
    "dx_num = eval_numerical_gradient(lambda x: softmax_loss(x, y)[0], x, verbose=False)\n",
    "loss, dx = softmax_loss(x, y)\n",
    "\n",
    "# Test softmax_loss function. Loss should be close to 2.3 and dx error should be around e-8\n",
    "print('\\nTesting softmax_loss:')\n",
    "print('loss: ', loss)\n",
    "print('dx error: ', rel_error(dx_num, dx))\n"
   ]
  },
  {
   "cell_type": "markdown",
   "metadata": {},
   "source": [
    "# Two-layer network\n",
    "In the previous assignment you implemented a two-layer neural network in a single monolithic class. Now that you have implemented modular versions of the necessary layers, you will reimplement the two layer network using these modular implementations.\n",
    "\n",
    "Open the file `CV7062610\n",
    "/classifiers/fc_net.py` and complete the implementation of the `TwoLayerNet` class. This class will serve as a model for the other networks you will implement in this assignment, so read through it to make sure you understand the API. You can run the cell below to test your implementation."
   ]
  },
  {
   "cell_type": "code",
   "execution_count": 15,
   "metadata": {},
   "outputs": [
    {
     "name": "stdout",
     "output_type": "stream",
     "text": [
      "Testing initialization ... \n",
      "Testing test-time forward pass ... \n",
      "Testing training loss (no regularization)\n",
      "Running numeric gradient check with reg =  0.0\n",
      "W1 relative error: 1.83e-08\n",
      "W2 relative error: 3.34e-10\n",
      "b1 relative error: 8.01e-09\n",
      "b2 relative error: 2.53e-10\n",
      "Running numeric gradient check with reg =  0.7\n",
      "W1 relative error: 3.12e-07\n",
      "W2 relative error: 2.85e-08\n",
      "b1 relative error: 1.56e-08\n",
      "b2 relative error: 1.97e-09\n"
     ]
    }
   ],
   "source": [
    "np.random.seed(231)\n",
    "N, D, H, C = 3, 5, 50, 7\n",
    "X = np.random.randn(N, D)\n",
    "y = np.random.randint(C, size=N)\n",
    "\n",
    "std = 1e-3\n",
    "model = TwoLayerNet(input_dim=D, hidden_dim=H, num_classes=C, weight_scale=std)\n",
    "\n",
    "print('Testing initialization ... ')\n",
    "W1_std = abs(model.params['W1'].std() - std)\n",
    "b1 = model.params['b1']\n",
    "W2_std = abs(model.params['W2'].std() - std)\n",
    "b2 = model.params['b2']\n",
    "assert W1_std < std / 10, 'First layer weights do not seem right'\n",
    "assert np.all(b1 == 0), 'First layer biases do not seem right'\n",
    "assert W2_std < std / 10, 'Second layer weights do not seem right'\n",
    "assert np.all(b2 == 0), 'Second layer biases do not seem right'\n",
    "\n",
    "print('Testing test-time forward pass ... ')\n",
    "model.params['W1'] = np.linspace(-0.7, 0.3, num=D*H).reshape(D, H)\n",
    "model.params['b1'] = np.linspace(-0.1, 0.9, num=H)\n",
    "model.params['W2'] = np.linspace(-0.3, 0.4, num=H*C).reshape(H, C)\n",
    "model.params['b2'] = np.linspace(-0.9, 0.1, num=C)\n",
    "X = np.linspace(-5.5, 4.5, num=N*D).reshape(D, N).T\n",
    "scores = model.loss(X)\n",
    "correct_scores = np.asarray(\n",
    "  [[11.53165108,  12.2917344,   13.05181771,  13.81190102,  14.57198434, 15.33206765,  16.09215096],\n",
    "   [12.05769098,  12.74614105,  13.43459113,  14.1230412,   14.81149128, 15.49994135,  16.18839143],\n",
    "   [12.58373087,  13.20054771,  13.81736455,  14.43418138,  15.05099822, 15.66781506,  16.2846319 ]])\n",
    "scores_diff = np.abs(scores - correct_scores).sum()\n",
    "assert scores_diff < 1e-6, 'Problem with test-time forward pass'\n",
    "\n",
    "print('Testing training loss (no regularization)')\n",
    "y = np.asarray([0, 5, 1])\n",
    "loss, grads = model.loss(X, y)\n",
    "correct_loss = 3.4702243556\n",
    "assert abs(loss - correct_loss) < 1e-10, 'Problem with training-time loss'\n",
    "\n",
    "model.reg = 1.0\n",
    "loss, grads = model.loss(X, y)\n",
    "correct_loss = 26.5948426952\n",
    "assert abs(loss - correct_loss) < 1e-10, 'Problem with regularization loss'\n",
    "\n",
    "# Errors should be around e-7 or less\n",
    "for reg in [0.0, 0.7]:\n",
    "  print('Running numeric gradient check with reg = ', reg)\n",
    "  model.reg = reg\n",
    "  loss, grads = model.loss(X, y)\n",
    "\n",
    "  for name in sorted(grads):\n",
    "    f = lambda _: model.loss(X, y)[0]\n",
    "    grad_num = eval_numerical_gradient(f, model.params[name], verbose=False)\n",
    "    print('%s relative error: %.2e' % (name, rel_error(grad_num, grads[name])))"
   ]
  },
  {
   "cell_type": "markdown",
   "metadata": {},
   "source": [
    "# Solver\n",
    "In the previous assignment, the logic for training models was coupled to the models themselves. Following a more modular design, for this assignment we have split the logic for training models into a separate class.\n",
    "\n",
    "Open the file `CV7062610/solver.py` and read through it to familiarize yourself with the API. After doing so, use a `Solver` instance to train a `TwoLayerNet` that achieves at least `45%` accuracy on the validation set. If you are doing it corectly this shouldn't take more than 5 epochs of training and more than 5 minuts using vanilla sgd."
   ]
  },
  {
   "cell_type": "code",
   "execution_count": 16,
   "metadata": {
    "id": "tln_solver_accuracy"
   },
   "outputs": [
    {
     "name": "stderr",
     "output_type": "stream",
     "text": [
      "c:\\Users\\Ziv\\Desktop\\University\\year 3\\semester 2\\computer vision\\Computer-vision-and-AI-ex-2\\assignment2\\CV7062610\\solver.py:254: NumbaWarning: \u001b[1m\n",
      "Compilation is falling back to object mode WITH looplifting enabled because Function \"train\" failed type inference due to: \u001b[1m\u001b[1mnon-precise type pyobject\u001b[0m\n",
      "\u001b[0m\u001b[1mDuring: typing of argument at c:\\Users\\Ziv\\Desktop\\University\\year 3\\semester 2\\computer vision\\Computer-vision-and-AI-ex-2\\assignment2\\CV7062610\\solver.py (259)\u001b[0m\n",
      "\u001b[1m\n",
      "File \"CV7062610\\solver.py\", line 259:\u001b[0m\n",
      "\u001b[1m    def train(self):\n",
      "        <source elided>\n",
      "        \"\"\"\n",
      "\u001b[1m        num_train = self.X_train.shape[0]\n",
      "\u001b[0m        \u001b[1m^\u001b[0m\u001b[0m\n",
      "\u001b[0m\n",
      "  @jit(parallel=True)\n",
      "c:\\Users\\Ziv\\Desktop\\University\\year 3\\semester 2\\computer vision\\Computer-vision-and-AI-ex-2\\assignment2\\CV7062610\\solver.py:254: NumbaWarning: \u001b[1m\n",
      "Compilation is falling back to object mode WITHOUT looplifting enabled because Function \"train\" failed type inference due to: \u001b[1m\u001b[1mCannot determine Numba type of <class 'numba.core.dispatcher.LiftedLoop'>\u001b[0m\n",
      "\u001b[1m\n",
      "File \"CV7062610\\solver.py\", line 264:\u001b[0m\n",
      "\u001b[1m    def train(self):\n",
      "        <source elided>\n",
      "        #for t in range(num_iterations):\n",
      "\u001b[1m        for t in prange(num_iterations):\n",
      "\u001b[0m        \u001b[1m^\u001b[0m\u001b[0m\n",
      "\u001b[0m\u001b[0m\n",
      "  @jit(parallel=True)\n",
      "C:\\Users\\Ziv\\AppData\\Roaming\\Python\\Python310\\site-packages\\numba\\core\\object_mode_passes.py:151: NumbaWarning: \u001b[1mFunction \"train\" was compiled in object mode without forceobj=True, but has lifted loops.\n",
      "\u001b[1m\n",
      "File \"CV7062610\\solver.py\", line 259:\u001b[0m\n",
      "\u001b[1m    def train(self):\n",
      "        <source elided>\n",
      "        \"\"\"\n",
      "\u001b[1m        num_train = self.X_train.shape[0]\n",
      "\u001b[0m        \u001b[1m^\u001b[0m\u001b[0m\n",
      "\u001b[0m\n",
      "  warnings.warn(errors.NumbaWarning(warn_msg,\n",
      "C:\\Users\\Ziv\\AppData\\Roaming\\Python\\Python310\\site-packages\\numba\\core\\object_mode_passes.py:161: NumbaDeprecationWarning: \u001b[1m\n",
      "Fall-back from the nopython compilation path to the object mode compilation path has been detected, this is deprecated behaviour.\n",
      "\n",
      "For more information visit https://numba.readthedocs.io/en/stable/reference/deprecation.html#deprecation-of-object-mode-fall-back-behaviour-when-using-jit\n",
      "\u001b[1m\n",
      "File \"CV7062610\\solver.py\", line 259:\u001b[0m\n",
      "\u001b[1m    def train(self):\n",
      "        <source elided>\n",
      "        \"\"\"\n",
      "\u001b[1m        num_train = self.X_train.shape[0]\n",
      "\u001b[0m        \u001b[1m^\u001b[0m\u001b[0m\n",
      "\u001b[0m\n",
      "  warnings.warn(errors.NumbaDeprecationWarning(msg,\n",
      "c:\\Users\\Ziv\\Desktop\\University\\year 3\\semester 2\\computer vision\\Computer-vision-and-AI-ex-2\\assignment2\\CV7062610\\solver.py:254: NumbaWarning: \u001b[1m\n",
      "Compilation is falling back to object mode WITHOUT looplifting enabled because Function \"train\" failed type inference due to: \u001b[1m\u001b[1mnon-precise type pyobject\u001b[0m\n",
      "\u001b[0m\u001b[1mDuring: typing of argument at c:\\Users\\Ziv\\Desktop\\University\\year 3\\semester 2\\computer vision\\Computer-vision-and-AI-ex-2\\assignment2\\CV7062610\\solver.py (264)\u001b[0m\n",
      "\u001b[1m\n",
      "File \"CV7062610\\solver.py\", line 264:\u001b[0m\n",
      "\u001b[1m    def train(self):\n",
      "        <source elided>\n",
      "        #for t in range(num_iterations):\n",
      "\u001b[1m        for t in prange(num_iterations):\n",
      "\u001b[0m        \u001b[1m^\u001b[0m\u001b[0m\n",
      "\u001b[0m\n",
      "  @jit(parallel=True)\n",
      "C:\\Users\\Ziv\\AppData\\Roaming\\Python\\Python310\\site-packages\\numba\\core\\object_mode_passes.py:151: NumbaWarning: \u001b[1mFunction \"train\" was compiled in object mode without forceobj=True.\n",
      "\u001b[1m\n",
      "File \"CV7062610\\solver.py\", line 264:\u001b[0m\n",
      "\u001b[1m    def train(self):\n",
      "        <source elided>\n",
      "        #for t in range(num_iterations):\n",
      "\u001b[1m        for t in prange(num_iterations):\n",
      "\u001b[0m        \u001b[1m^\u001b[0m\u001b[0m\n",
      "\u001b[0m\n",
      "  warnings.warn(errors.NumbaWarning(warn_msg,\n",
      "C:\\Users\\Ziv\\AppData\\Roaming\\Python\\Python310\\site-packages\\numba\\core\\object_mode_passes.py:161: NumbaDeprecationWarning: \u001b[1m\n",
      "Fall-back from the nopython compilation path to the object mode compilation path has been detected, this is deprecated behaviour.\n",
      "\n",
      "For more information visit https://numba.readthedocs.io/en/stable/reference/deprecation.html#deprecation-of-object-mode-fall-back-behaviour-when-using-jit\n",
      "\u001b[1m\n",
      "File \"CV7062610\\solver.py\", line 264:\u001b[0m\n",
      "\u001b[1m    def train(self):\n",
      "        <source elided>\n",
      "        #for t in range(num_iterations):\n",
      "\u001b[1m        for t in prange(num_iterations):\n",
      "\u001b[0m        \u001b[1m^\u001b[0m\u001b[0m\n",
      "\u001b[0m\n",
      "  warnings.warn(errors.NumbaDeprecationWarning(msg,\n"
     ]
    },
    {
     "name": "stdout",
     "output_type": "stream",
     "text": [
      "(Iteration 1 / 2450) loss: 2.304060\n",
      "(Epoch 0 / 5) train acc: 0.092000; val_acc: 0.073000\n",
      "(Iteration 11 / 2450) loss: 2.286339\n",
      "(Iteration 21 / 2450) loss: 2.247149\n",
      "(Iteration 31 / 2450) loss: 2.175662\n",
      "(Iteration 41 / 2450) loss: 2.122639\n",
      "(Iteration 51 / 2450) loss: 2.145749\n",
      "(Iteration 61 / 2450) loss: 2.069872\n",
      "(Iteration 71 / 2450) loss: 2.082481\n",
      "(Iteration 81 / 2450) loss: 1.978829\n",
      "(Iteration 91 / 2450) loss: 1.932673\n",
      "(Iteration 101 / 2450) loss: 1.898232\n",
      "(Iteration 111 / 2450) loss: 1.854451\n",
      "(Iteration 121 / 2450) loss: 1.831479\n",
      "(Iteration 131 / 2450) loss: 1.823377\n",
      "(Iteration 141 / 2450) loss: 1.880665\n",
      "(Iteration 151 / 2450) loss: 1.808169\n",
      "(Iteration 161 / 2450) loss: 1.832338\n",
      "(Iteration 171 / 2450) loss: 1.725936\n",
      "(Iteration 181 / 2450) loss: 1.739907\n",
      "(Iteration 191 / 2450) loss: 1.761860\n",
      "(Iteration 201 / 2450) loss: 1.935383\n",
      "(Iteration 211 / 2450) loss: 1.785477\n",
      "(Iteration 221 / 2450) loss: 1.822074\n",
      "(Iteration 231 / 2450) loss: 1.735837\n",
      "(Iteration 241 / 2450) loss: 1.593559\n",
      "(Iteration 251 / 2450) loss: 1.521683\n",
      "(Iteration 261 / 2450) loss: 1.771387\n",
      "(Iteration 271 / 2450) loss: 1.707738\n",
      "(Iteration 281 / 2450) loss: 1.781401\n",
      "(Iteration 291 / 2450) loss: 1.667405\n",
      "(Iteration 301 / 2450) loss: 1.810089\n",
      "(Iteration 311 / 2450) loss: 1.637811\n",
      "(Iteration 321 / 2450) loss: 1.554809\n",
      "(Iteration 331 / 2450) loss: 1.530104\n",
      "(Iteration 341 / 2450) loss: 1.817627\n",
      "(Iteration 351 / 2450) loss: 1.670488\n",
      "(Iteration 361 / 2450) loss: 1.902735\n",
      "(Iteration 371 / 2450) loss: 1.748039\n",
      "(Iteration 381 / 2450) loss: 1.691755\n",
      "(Iteration 391 / 2450) loss: 1.596884\n",
      "(Iteration 401 / 2450) loss: 1.546397\n",
      "(Iteration 411 / 2450) loss: 1.733227\n",
      "(Iteration 421 / 2450) loss: 1.560571\n",
      "(Iteration 431 / 2450) loss: 1.552594\n",
      "(Iteration 441 / 2450) loss: 1.627894\n",
      "(Iteration 451 / 2450) loss: 1.653137\n",
      "(Iteration 461 / 2450) loss: 1.528749\n",
      "(Iteration 471 / 2450) loss: 1.585273\n",
      "(Iteration 481 / 2450) loss: 1.488456\n",
      "(Epoch 1 / 5) train acc: 0.407000; val_acc: 0.414000\n",
      "(Iteration 491 / 2450) loss: 1.645709\n",
      "(Iteration 501 / 2450) loss: 1.534027\n",
      "(Iteration 511 / 2450) loss: 1.485467\n",
      "(Iteration 521 / 2450) loss: 1.689453\n",
      "(Iteration 531 / 2450) loss: 1.688384\n",
      "(Iteration 541 / 2450) loss: 1.525664\n",
      "(Iteration 551 / 2450) loss: 1.595593\n",
      "(Iteration 561 / 2450) loss: 1.462278\n",
      "(Iteration 571 / 2450) loss: 1.619144\n",
      "(Iteration 581 / 2450) loss: 1.491038\n",
      "(Iteration 591 / 2450) loss: 1.674077\n",
      "(Iteration 601 / 2450) loss: 1.671633\n",
      "(Iteration 611 / 2450) loss: 1.506617\n",
      "(Iteration 621 / 2450) loss: 1.451343\n",
      "(Iteration 631 / 2450) loss: 1.431004\n",
      "(Iteration 641 / 2450) loss: 1.560748\n",
      "(Iteration 651 / 2450) loss: 1.546617\n",
      "(Iteration 661 / 2450) loss: 1.554927\n",
      "(Iteration 671 / 2450) loss: 1.344460\n",
      "(Iteration 681 / 2450) loss: 1.623306\n",
      "(Iteration 691 / 2450) loss: 1.613928\n",
      "(Iteration 701 / 2450) loss: 1.697023\n",
      "(Iteration 711 / 2450) loss: 1.591748\n",
      "(Iteration 721 / 2450) loss: 1.524002\n",
      "(Iteration 731 / 2450) loss: 1.721144\n",
      "(Iteration 741 / 2450) loss: 1.395451\n",
      "(Iteration 751 / 2450) loss: 1.659225\n",
      "(Iteration 761 / 2450) loss: 1.512946\n",
      "(Iteration 771 / 2450) loss: 1.588702\n",
      "(Iteration 781 / 2450) loss: 1.606627\n",
      "(Iteration 791 / 2450) loss: 1.639354\n",
      "(Iteration 801 / 2450) loss: 1.664437\n",
      "(Iteration 811 / 2450) loss: 1.617667\n",
      "(Iteration 821 / 2450) loss: 1.478860\n",
      "(Iteration 831 / 2450) loss: 1.668811\n",
      "(Iteration 841 / 2450) loss: 1.474900\n",
      "(Iteration 851 / 2450) loss: 1.733590\n",
      "(Iteration 861 / 2450) loss: 1.341513\n",
      "(Iteration 871 / 2450) loss: 1.614580\n",
      "(Iteration 881 / 2450) loss: 1.454662\n",
      "(Iteration 891 / 2450) loss: 1.506136\n",
      "(Iteration 901 / 2450) loss: 1.507074\n",
      "(Iteration 911 / 2450) loss: 1.371212\n",
      "(Iteration 921 / 2450) loss: 1.490557\n",
      "(Iteration 931 / 2450) loss: 1.568453\n",
      "(Iteration 941 / 2450) loss: 1.549694\n",
      "(Iteration 951 / 2450) loss: 1.459055\n",
      "(Iteration 961 / 2450) loss: 1.443208\n",
      "(Iteration 971 / 2450) loss: 1.549877\n",
      "(Epoch 2 / 5) train acc: 0.484000; val_acc: 0.477000\n",
      "(Iteration 981 / 2450) loss: 1.589273\n",
      "(Iteration 991 / 2450) loss: 1.494155\n",
      "(Iteration 1001 / 2450) loss: 1.443582\n",
      "(Iteration 1011 / 2450) loss: 1.428601\n",
      "(Iteration 1021 / 2450) loss: 1.595877\n",
      "(Iteration 1031 / 2450) loss: 1.557006\n",
      "(Iteration 1041 / 2450) loss: 1.450761\n",
      "(Iteration 1051 / 2450) loss: 1.344259\n",
      "(Iteration 1061 / 2450) loss: 1.689721\n",
      "(Iteration 1071 / 2450) loss: 1.497240\n",
      "(Iteration 1081 / 2450) loss: 1.370710\n",
      "(Iteration 1091 / 2450) loss: 1.473163\n",
      "(Iteration 1101 / 2450) loss: 1.384893\n",
      "(Iteration 1111 / 2450) loss: 1.550107\n",
      "(Iteration 1121 / 2450) loss: 1.601706\n",
      "(Iteration 1131 / 2450) loss: 1.605082\n",
      "(Iteration 1141 / 2450) loss: 1.420155\n",
      "(Iteration 1151 / 2450) loss: 1.284118\n",
      "(Iteration 1161 / 2450) loss: 1.438012\n",
      "(Iteration 1171 / 2450) loss: 1.486405\n",
      "(Iteration 1181 / 2450) loss: 1.567612\n",
      "(Iteration 1191 / 2450) loss: 1.329358\n",
      "(Iteration 1201 / 2450) loss: 1.684772\n",
      "(Iteration 1211 / 2450) loss: 1.535173\n",
      "(Iteration 1221 / 2450) loss: 1.533219\n",
      "(Iteration 1231 / 2450) loss: 1.490852\n",
      "(Iteration 1241 / 2450) loss: 1.481504\n",
      "(Iteration 1251 / 2450) loss: 1.474911\n",
      "(Iteration 1261 / 2450) loss: 1.628385\n",
      "(Iteration 1271 / 2450) loss: 1.378193\n",
      "(Iteration 1281 / 2450) loss: 1.508585\n",
      "(Iteration 1291 / 2450) loss: 1.436704\n",
      "(Iteration 1301 / 2450) loss: 1.498079\n",
      "(Iteration 1311 / 2450) loss: 1.369678\n",
      "(Iteration 1321 / 2450) loss: 1.495973\n",
      "(Iteration 1331 / 2450) loss: 1.393538\n",
      "(Iteration 1341 / 2450) loss: 1.398429\n",
      "(Iteration 1351 / 2450) loss: 1.517743\n",
      "(Iteration 1361 / 2450) loss: 1.375762\n",
      "(Iteration 1371 / 2450) loss: 1.415549\n",
      "(Iteration 1381 / 2450) loss: 1.357053\n",
      "(Iteration 1391 / 2450) loss: 1.605868\n",
      "(Iteration 1401 / 2450) loss: 1.263856\n",
      "(Iteration 1411 / 2450) loss: 1.507653\n",
      "(Iteration 1421 / 2450) loss: 1.462342\n",
      "(Iteration 1431 / 2450) loss: 1.478865\n",
      "(Iteration 1441 / 2450) loss: 1.346103\n",
      "(Iteration 1451 / 2450) loss: 1.639155\n",
      "(Iteration 1461 / 2450) loss: 1.187692\n",
      "(Epoch 3 / 5) train acc: 0.501000; val_acc: 0.475000\n",
      "(Iteration 1471 / 2450) loss: 1.324280\n",
      "(Iteration 1481 / 2450) loss: 1.386192\n",
      "(Iteration 1491 / 2450) loss: 1.347521\n",
      "(Iteration 1501 / 2450) loss: 1.436865\n",
      "(Iteration 1511 / 2450) loss: 1.371199\n",
      "(Iteration 1521 / 2450) loss: 1.365158\n",
      "(Iteration 1531 / 2450) loss: 1.445908\n",
      "(Iteration 1541 / 2450) loss: 1.315362\n",
      "(Iteration 1551 / 2450) loss: 1.310987\n",
      "(Iteration 1561 / 2450) loss: 1.094945\n",
      "(Iteration 1571 / 2450) loss: 1.571587\n",
      "(Iteration 1581 / 2450) loss: 1.369014\n",
      "(Iteration 1591 / 2450) loss: 1.490446\n",
      "(Iteration 1601 / 2450) loss: 1.382447\n",
      "(Iteration 1611 / 2450) loss: 1.428321\n",
      "(Iteration 1621 / 2450) loss: 1.428158\n",
      "(Iteration 1631 / 2450) loss: 1.478880\n",
      "(Iteration 1641 / 2450) loss: 1.326219\n",
      "(Iteration 1651 / 2450) loss: 1.320154\n",
      "(Iteration 1661 / 2450) loss: 1.388659\n",
      "(Iteration 1671 / 2450) loss: 1.326344\n",
      "(Iteration 1681 / 2450) loss: 1.389697\n",
      "(Iteration 1691 / 2450) loss: 1.420680\n",
      "(Iteration 1701 / 2450) loss: 1.277463\n",
      "(Iteration 1711 / 2450) loss: 1.547583\n",
      "(Iteration 1721 / 2450) loss: 1.304085\n",
      "(Iteration 1731 / 2450) loss: 1.300529\n",
      "(Iteration 1741 / 2450) loss: 1.448215\n",
      "(Iteration 1751 / 2450) loss: 1.312939\n",
      "(Iteration 1761 / 2450) loss: 1.576958\n",
      "(Iteration 1771 / 2450) loss: 1.659842\n",
      "(Iteration 1781 / 2450) loss: 1.256308\n",
      "(Iteration 1791 / 2450) loss: 1.415212\n",
      "(Iteration 1801 / 2450) loss: 1.429178\n",
      "(Iteration 1811 / 2450) loss: 1.409888\n",
      "(Iteration 1821 / 2450) loss: 1.205173\n",
      "(Iteration 1831 / 2450) loss: 1.524270\n",
      "(Iteration 1841 / 2450) loss: 1.345636\n",
      "(Iteration 1851 / 2450) loss: 1.438783\n",
      "(Iteration 1861 / 2450) loss: 1.288951\n",
      "(Iteration 1871 / 2450) loss: 1.375654\n",
      "(Iteration 1881 / 2450) loss: 1.282716\n",
      "(Iteration 1891 / 2450) loss: 1.444487\n",
      "(Iteration 1901 / 2450) loss: 1.386674\n",
      "(Iteration 1911 / 2450) loss: 1.380414\n",
      "(Iteration 1921 / 2450) loss: 1.298561\n",
      "(Iteration 1931 / 2450) loss: 1.377586\n",
      "(Iteration 1941 / 2450) loss: 1.138181\n",
      "(Iteration 1951 / 2450) loss: 1.247654\n",
      "(Epoch 4 / 5) train acc: 0.523000; val_acc: 0.504000\n",
      "(Iteration 1961 / 2450) loss: 1.455502\n",
      "(Iteration 1971 / 2450) loss: 1.242810\n",
      "(Iteration 1981 / 2450) loss: 1.257512\n",
      "(Iteration 1991 / 2450) loss: 1.369537\n",
      "(Iteration 2001 / 2450) loss: 1.382935\n",
      "(Iteration 2011 / 2450) loss: 1.448972\n",
      "(Iteration 2021 / 2450) loss: 1.350823\n",
      "(Iteration 2031 / 2450) loss: 1.270955\n",
      "(Iteration 2041 / 2450) loss: 1.217295\n",
      "(Iteration 2051 / 2450) loss: 1.284903\n",
      "(Iteration 2061 / 2450) loss: 1.321748\n",
      "(Iteration 2071 / 2450) loss: 1.461186\n",
      "(Iteration 2081 / 2450) loss: 1.369994\n",
      "(Iteration 2091 / 2450) loss: 1.444726\n",
      "(Iteration 2101 / 2450) loss: 1.409401\n",
      "(Iteration 2111 / 2450) loss: 1.326481\n",
      "(Iteration 2121 / 2450) loss: 1.417980\n",
      "(Iteration 2131 / 2450) loss: 1.545803\n",
      "(Iteration 2141 / 2450) loss: 1.393872\n",
      "(Iteration 2151 / 2450) loss: 1.480674\n",
      "(Iteration 2161 / 2450) loss: 1.340285\n",
      "(Iteration 2171 / 2450) loss: 1.175066\n",
      "(Iteration 2181 / 2450) loss: 1.350377\n",
      "(Iteration 2191 / 2450) loss: 1.704150\n",
      "(Iteration 2201 / 2450) loss: 1.291603\n",
      "(Iteration 2211 / 2450) loss: 1.331526\n",
      "(Iteration 2221 / 2450) loss: 1.413820\n",
      "(Iteration 2231 / 2450) loss: 1.570704\n",
      "(Iteration 2241 / 2450) loss: 1.321119\n",
      "(Iteration 2251 / 2450) loss: 1.492705\n",
      "(Iteration 2261 / 2450) loss: 1.347873\n",
      "(Iteration 2271 / 2450) loss: 1.491305\n",
      "(Iteration 2281 / 2450) loss: 1.245471\n",
      "(Iteration 2291 / 2450) loss: 1.318700\n",
      "(Iteration 2301 / 2450) loss: 1.324597\n",
      "(Iteration 2311 / 2450) loss: 1.034819\n",
      "(Iteration 2321 / 2450) loss: 1.293360\n",
      "(Iteration 2331 / 2450) loss: 1.434075\n",
      "(Iteration 2341 / 2450) loss: 1.481140\n",
      "(Iteration 2351 / 2450) loss: 1.189173\n",
      "(Iteration 2361 / 2450) loss: 1.418880\n",
      "(Iteration 2371 / 2450) loss: 1.226925\n",
      "(Iteration 2381 / 2450) loss: 1.281328\n",
      "(Iteration 2391 / 2450) loss: 1.355170\n",
      "(Iteration 2401 / 2450) loss: 1.341089\n",
      "(Iteration 2411 / 2450) loss: 1.437507\n",
      "(Iteration 2421 / 2450) loss: 1.540436\n",
      "(Iteration 2431 / 2450) loss: 1.451148\n",
      "(Iteration 2441 / 2450) loss: 1.166612\n",
      "(Epoch 5 / 5) train acc: 0.527000; val_acc: 0.500000\n"
     ]
    },
    {
     "data": {
      "text/plain": [
       "0.504"
      ]
     },
     "execution_count": 16,
     "metadata": {},
     "output_type": "execute_result"
    }
   ],
   "source": [
    "model = TwoLayerNet()\n",
    "solver = None\n",
    "best_val = -1\n",
    "##############################################################################\n",
    "# TODO: Use a Solver instance to train a TwoLayerNet that achieves at least  #\n",
    "# 50% accuracy on the validation set.                                        #\n",
    "##############################################################################\n",
    "# *****START OF YOUR CODE (DO NOT DELETE/MODIFY THIS LINE)*****\n",
    "\n",
    "solver = Solver(model,data=data,verbose=True,optim_config={\"learning_rate\":5e-4},lr_decay=1,num_epochs=5)\n",
    "solver.train()\n",
    "best_val = solver.best_val_acc #solver.check_accuracy(data['X_test'],data['y_test'])\n",
    "best_val\n",
    "# *****END OF YOUR CODE (DO NOT DELETE/MODIFY THIS LINE)*****\n",
    "##############################################################################\n",
    "#                             END OF YOUR CODE                               #\n",
    "##############################################################################"
   ]
  },
  {
   "cell_type": "code",
   "execution_count": 17,
   "metadata": {},
   "outputs": [
    {
     "data": {
      "image/png": "[encoded data removed]",
      "text/plain": [
       "<Figure size 1500x1200 with 2 Axes>"
      ]
     },
     "metadata": {},
     "output_type": "display_data"
    }
   ],
   "source": [
    "# Run this cell to visualize training loss and train / val accuracy\n",
    "\n",
    "plt.subplot(2, 1, 1)\n",
    "plt.title('Training loss')\n",
    "plt.plot(solver.loss_history, 'o')\n",
    "plt.xlabel('Iteration')\n",
    "\n",
    "plt.subplot(2, 1, 2)\n",
    "plt.title('Accuracy')\n",
    "plt.plot(solver.train_acc_history, '-o', label='train')\n",
    "plt.plot(solver.val_acc_history, '-o', label='val')\n",
    "plt.plot([0.5] * len(solver.val_acc_history), 'k--')\n",
    "plt.xlabel('Epoch')\n",
    "plt.legend(loc='lower right')\n",
    "plt.gcf().set_size_inches(15, 12)\n",
    "plt.show()"
   ]
  },
  {
   "cell_type": "markdown",
   "metadata": {},
   "source": [
    "# Multilayer network\n",
    "Next you will implement a fully-connected network with an arbitrary number of hidden layers.\n",
    "\n",
    "Read through the `FullyConnectedNet` class in the file `CV7062610/classifiers/fc_net.py`.\n",
    "\n",
    "Implement the initialization, the forward pass, and the backward pass. For the moment don't worry about implementing dropout or batch/layer normalization; we will add those features soon."
   ]
  },
  {
   "cell_type": "markdown",
   "metadata": {},
   "source": [
    "## Initial loss and gradient check\n",
    "\n",
    "As a sanity check, run the following to check the initial loss and to gradient check the network both with and without regularization. Do the initial losses seem reasonable?\n",
    "\n",
    "For gradient checking, you should expect to see errors around 1e-7 or less."
   ]
  },
  {
   "cell_type": "code",
   "execution_count": 19,
   "metadata": {},
   "outputs": [
    {
     "name": "stdout",
     "output_type": "stream",
     "text": [
      "Running check with reg =  0\n",
      "Initial loss:  2.3004790897684924\n",
      "W1 relative error: 7.70e-08\n",
      "W2 relative error: 1.01e-05\n",
      "W3 relative error: 4.56e-07\n",
      "b1 relative error: 4.66e-09\n",
      "b2 relative error: 2.09e-09\n",
      "b3 relative error: 1.64e-10\n",
      "Running check with reg =  0.7\n",
      "Initial loss:  3.3606694235873547\n",
      "W1 relative error: 4.71e-08\n",
      "W2 relative error: 2.20e-07\n",
      "W3 relative error: 1.66e-07\n",
      "b1 relative error: 1.48e-08\n",
      "b2 relative error: 9.48e-10\n",
      "b3 relative error: 1.32e-10\n",
      "Running check with reg =  1\n",
      "Initial loss:  3.776019363337085\n",
      "W1 relative error: 1.18e-07\n",
      "W2 relative error: 1.10e-07\n",
      "W3 relative error: 1.05e-07\n",
      "b1 relative error: 4.45e-09\n",
      "b2 relative error: 1.02e-08\n",
      "b3 relative error: 1.25e-10\n",
      "Running check with reg =  3.14\n",
      "Initial loss:  6.704192305650366\n",
      "W1 relative error: 7.47e-09\n",
      "W2 relative error: 1.26e-08\n",
      "W3 relative error: 9.18e-08\n",
      "b1 relative error: 4.29e-07\n",
      "b2 relative error: 1.83e-08\n",
      "b3 relative error: 1.02e-10\n"
     ]
    }
   ],
   "source": [
    "np.random.seed(231)\n",
    "N, D, H1, H2, C = 2, 15, 20, 30, 10\n",
    "X = np.random.randn(N, D)\n",
    "y = np.random.randint(C, size=(N,))\n",
    "\n",
    "for reg in [0, 0.7,1,3.14]:\n",
    "  print('Running check with reg = ', reg)\n",
    "  model = FullyConnectedNet([H1, H2], input_dim=D, num_classes=C,\n",
    "                            reg=reg, weight_scale=5e-2, dtype=np.float64)\n",
    "\n",
    "  loss, grads = model.loss(X, y)\n",
    "  print('Initial loss: ', loss)\n",
    "  \n",
    "  # Most of the errors should be on the order of e-7 or smaller.   \n",
    "  # NOTE: It is fine however to see an error for W2 on the order of e-5\n",
    "  # for the check when reg = 0.0\n",
    "  for name in sorted(grads):\n",
    "    f = lambda _: model.loss(X, y)[0]\n",
    "    grad_num = eval_numerical_gradient(f, model.params[name], verbose=False, h=1e-5)\n",
    "    print('%s relative error: %.2e' % (name, rel_error(grad_num, grads[name])))\n",
    "  \n",
    "  \n",
    "  "
   ]
  },
  {
   "cell_type": "markdown",
   "metadata": {},
   "source": [
    "As another sanity check, make sure you can overfit a small dataset of 50 images. First we will try a three-layer network with 100 units in each hidden layer. In the following cell, tweak the **learning rate** and **weight initialization scale** to overfit and achieve 100% training accuracy within 20 epochs."
   ]
  },
  {
   "cell_type": "code",
   "execution_count": 20,
   "metadata": {
    "scrolled": false
   },
   "outputs": [
    {
     "name": "stdout",
     "output_type": "stream",
     "text": [
      "(Iteration 1 / 40) loss: 2.367249\n",
      "(Epoch 0 / 20) train acc: 0.280000; val_acc: 0.124000\n",
      "(Epoch 1 / 20) train acc: 0.420000; val_acc: 0.143000\n",
      "(Epoch 2 / 20) train acc: 0.520000; val_acc: 0.166000\n",
      "(Epoch 3 / 20) train acc: 0.500000; val_acc: 0.154000\n",
      "(Epoch 4 / 20) train acc: 0.640000; val_acc: 0.148000\n",
      "(Epoch 5 / 20) train acc: 0.560000; val_acc: 0.147000\n",
      "(Iteration 11 / 40) loss: 1.377840\n",
      "(Epoch 6 / 20) train acc: 0.540000; val_acc: 0.180000\n",
      "(Epoch 7 / 20) train acc: 0.740000; val_acc: 0.198000\n",
      "(Epoch 8 / 20) train acc: 0.800000; val_acc: 0.204000\n",
      "(Epoch 9 / 20) train acc: 0.880000; val_acc: 0.219000\n",
      "(Epoch 10 / 20) train acc: 0.940000; val_acc: 0.224000\n",
      "(Iteration 21 / 40) loss: 0.600724\n",
      "(Epoch 11 / 20) train acc: 0.900000; val_acc: 0.214000\n",
      "(Epoch 12 / 20) train acc: 0.860000; val_acc: 0.164000\n",
      "(Epoch 13 / 20) train acc: 1.000000; val_acc: 0.196000\n",
      "(Epoch 14 / 20) train acc: 1.000000; val_acc: 0.215000\n",
      "(Epoch 15 / 20) train acc: 1.000000; val_acc: 0.220000\n",
      "(Iteration 31 / 40) loss: 0.122818\n",
      "(Epoch 16 / 20) train acc: 1.000000; val_acc: 0.223000\n",
      "(Epoch 17 / 20) train acc: 1.000000; val_acc: 0.223000\n",
      "(Epoch 18 / 20) train acc: 1.000000; val_acc: 0.229000\n",
      "(Epoch 19 / 20) train acc: 1.000000; val_acc: 0.225000\n",
      "(Epoch 20 / 20) train acc: 0.960000; val_acc: 0.217000\n"
     ]
    },
    {
     "data": {
      "image/png": "[encoded data removed]",
      "text/plain": [
       "<Figure size 1000x800 with 1 Axes>"
      ]
     },
     "metadata": {},
     "output_type": "display_data"
    }
   ],
   "source": [
    "# TODO: Use a three-layer Net to overfit 50 training examples by \n",
    "# tweaking just the learning rate and initialization scale.\n",
    "\n",
    "num_train = 50\n",
    "small_data = {\n",
    "  'X_train': data['X_train'][:num_train],\n",
    "  'y_train': data['y_train'][:num_train],\n",
    "  'X_val': data['X_val'],\n",
    "  'y_val': data['y_val'],\n",
    "}\n",
    "\n",
    "##### TODO: find the best lr and wight scale ##########\n",
    "weight_scale = 1e-2   # Experiment with this!\n",
    "learning_rate = 7.5e-3  # Experiment with this!\n",
    "#######################################################\n",
    "model = FullyConnectedNet([100, 100],\n",
    "              weight_scale=weight_scale, dtype=np.float64)\n",
    "solver = Solver(model, small_data,\n",
    "                print_every=10, num_epochs=20, batch_size=25,\n",
    "                update_rule='sgd',\n",
    "                optim_config={\n",
    "                  'learning_rate': learning_rate,\n",
    "                }\n",
    "         )\n",
    "solver.train()\n",
    "\n",
    "plt.plot(solver.loss_history, 'o')\n",
    "plt.title('Training loss history')\n",
    "plt.xlabel('Iteration')\n",
    "plt.ylabel('Training loss')\n",
    "plt.show()"
   ]
  },
  {
   "cell_type": "markdown",
   "metadata": {},
   "source": [
    "Now try to use a five-layer network with 100 units on each layer to overfit 50 training examples. Again, you will have to adjust the learning rate and weight initialization scale, but you should be able to achieve 100% training accuracy within 20 epochs."
   ]
  },
  {
   "cell_type": "code",
   "execution_count": 21,
   "metadata": {},
   "outputs": [
    {
     "name": "stdout",
     "output_type": "stream",
     "text": [
      "(Iteration 1 / 40) loss: 21.424857\n",
      "(Epoch 0 / 20) train acc: 0.080000; val_acc: 0.075000\n",
      "(Epoch 1 / 20) train acc: 0.080000; val_acc: 0.076000\n",
      "(Epoch 2 / 20) train acc: 0.120000; val_acc: 0.079000\n",
      "(Epoch 3 / 20) train acc: 0.280000; val_acc: 0.083000\n",
      "(Epoch 4 / 20) train acc: 0.320000; val_acc: 0.076000\n",
      "(Epoch 5 / 20) train acc: 0.420000; val_acc: 0.090000\n",
      "(Iteration 11 / 40) loss: 4.284423\n",
      "(Epoch 6 / 20) train acc: 0.540000; val_acc: 0.088000\n",
      "(Epoch 7 / 20) train acc: 0.620000; val_acc: 0.091000\n",
      "(Epoch 8 / 20) train acc: 0.700000; val_acc: 0.104000\n",
      "(Epoch 9 / 20) train acc: 0.740000; val_acc: 0.105000\n",
      "(Epoch 10 / 20) train acc: 0.800000; val_acc: 0.095000\n",
      "(Iteration 21 / 40) loss: 0.558532\n",
      "(Epoch 11 / 20) train acc: 0.840000; val_acc: 0.094000\n",
      "(Epoch 12 / 20) train acc: 0.880000; val_acc: 0.090000\n",
      "(Epoch 13 / 20) train acc: 0.900000; val_acc: 0.094000\n",
      "(Epoch 14 / 20) train acc: 0.900000; val_acc: 0.096000\n",
      "(Epoch 15 / 20) train acc: 0.920000; val_acc: 0.093000\n",
      "(Iteration 31 / 40) loss: 0.309827\n",
      "(Epoch 16 / 20) train acc: 0.960000; val_acc: 0.094000\n",
      "(Epoch 17 / 20) train acc: 1.000000; val_acc: 0.093000\n",
      "(Epoch 18 / 20) train acc: 0.980000; val_acc: 0.093000\n",
      "(Epoch 19 / 20) train acc: 1.000000; val_acc: 0.098000\n",
      "(Epoch 20 / 20) train acc: 1.000000; val_acc: 0.095000\n"
     ]
    },
    {
     "data": {
      "image/png": "[encoded data removed]",
      "text/plain": [
       "<Figure size 1000x800 with 1 Axes>"
      ]
     },
     "metadata": {},
     "output_type": "display_data"
    }
   ],
   "source": [
    "# TODO: Use a five-layer Net to overfit 50 training examples by \n",
    "# tweaking just the learning rate and initialization scale.\n",
    "\n",
    "num_train = 50\n",
    "small_data = {\n",
    "  'X_train': data['X_train'][:num_train],\n",
    "  'y_train': data['y_train'][:num_train],\n",
    "  'X_val': data['X_val'],\n",
    "  'y_val': data['y_val'],\n",
    "}\n",
    "\n",
    "##### TODO: find the best lr and wight scale ##########\n",
    "learning_rate = 4e-4  # Experiment with this!\n",
    "weight_scale = 7e-2  # Experiment with this!\n",
    "#######################################################\n",
    "model = FullyConnectedNet([100, 100, 100, 100],\n",
    "                weight_scale=weight_scale, dtype=np.float64)\n",
    "solver = Solver(model, small_data,\n",
    "                print_every=10, num_epochs=20, batch_size=25,\n",
    "                update_rule='sgd',\n",
    "                optim_config={\n",
    "                  'learning_rate': learning_rate,\n",
    "                }\n",
    "         )\n",
    "solver.train()\n",
    "\n",
    "plt.plot(solver.loss_history, 'o')\n",
    "plt.title('Training loss history')\n",
    "plt.xlabel('Iteration')\n",
    "plt.ylabel('Training loss')\n",
    "plt.show()\n"
   ]
  },
  {
   "cell_type": "markdown",
   "metadata": {
    "tags": [
     "pdf-inline"
    ]
   },
   "source": [
    "## Inline Question 2: \n",
    "Did you notice anything about the comparative difficulty of training the three-layer net vs training the five layer net? In particular, based on your experience, which network seemed more sensitive to the initialization scale? Why do you think that is the case?\n",
    "\n",
    "## Answer:\n",
    "[FILL THIS IN]\n"
   ]
  },
  {
   "cell_type": "markdown",
   "metadata": {},
   "source": [
    "# Train a good model!\n",
    "Train the best fully-connected model that you can on CIFAR-10, storing your best model in the `best_model` variable. We require you to get at least 40% accuracy on the validation set using a fully-connected net. Using sgd this shouldn't take more than 5 minuts per traing over 10 epochs.\n",
    "\n",
    "If you are careful it should be possible to get accuracies above 55%, but we don't require it for this part and won't assign extra credit for doing so. Later in the assignment we will ask you to train the best convolutional network that you can on CIFAR-10, and we would prefer that you spend your effort working on convolutional nets rather than fully-connected nets."
   ]
  },
  {
   "cell_type": "code",
   "execution_count": 26,
   "metadata": {
    "scrolled": false
   },
   "outputs": [
    {
     "name": "stdout",
     "output_type": "stream",
     "text": [
      "(Iteration 1 / 1910) loss: 2.364304\n",
      "(Epoch 0 / 10) train acc: 0.101000; val_acc: 0.113000\n",
      "(Iteration 101 / 1910) loss: 2.065237\n",
      "(Epoch 1 / 10) train acc: 0.425000; val_acc: 0.417000\n",
      "(Iteration 201 / 1910) loss: 1.827939\n",
      "(Iteration 301 / 1910) loss: 1.561795\n",
      "(Epoch 2 / 10) train acc: 0.447000; val_acc: 0.426000\n",
      "(Iteration 401 / 1910) loss: 1.555886\n",
      "(Iteration 501 / 1910) loss: 1.462794\n",
      "(Epoch 3 / 10) train acc: 0.487000; val_acc: 0.473000\n",
      "(Iteration 601 / 1910) loss: 1.472586\n",
      "(Iteration 701 / 1910) loss: 1.330147\n",
      "(Epoch 4 / 10) train acc: 0.570000; val_acc: 0.502000\n",
      "(Iteration 801 / 1910) loss: 1.400396\n",
      "(Iteration 901 / 1910) loss: 1.336049\n",
      "(Epoch 5 / 10) train acc: 0.598000; val_acc: 0.517000\n",
      "(Iteration 1001 / 1910) loss: 1.165196\n",
      "(Iteration 1101 / 1910) loss: 1.165563\n",
      "(Epoch 6 / 10) train acc: 0.606000; val_acc: 0.507000\n",
      "(Iteration 1201 / 1910) loss: 1.165536\n",
      "(Iteration 1301 / 1910) loss: 1.188259\n",
      "(Epoch 7 / 10) train acc: 0.672000; val_acc: 0.543000\n",
      "(Iteration 1401 / 1910) loss: 1.086571\n",
      "(Iteration 1501 / 1910) loss: 1.079729\n",
      "(Epoch 8 / 10) train acc: 0.677000; val_acc: 0.560000\n",
      "(Iteration 1601 / 1910) loss: 0.941198\n",
      "(Iteration 1701 / 1910) loss: 0.894629\n",
      "(Epoch 9 / 10) train acc: 0.688000; val_acc: 0.546000\n",
      "(Iteration 1801 / 1910) loss: 0.859871\n",
      "(Iteration 1901 / 1910) loss: 0.867294\n",
      "(Epoch 10 / 10) train acc: 0.708000; val_acc: 0.554000\n"
     ]
    }
   ],
   "source": [
    "best_model = None\n",
    "best_val = 0.0\n",
    "################################################################################\n",
    "# TODO: Train the best FullyConnectedNet that you can on CIFAR-10. You might   #\n",
    "# find batch/layer normalization and dropout useful. Store your best model in  #\n",
    "# the best_model variable.                                                     #\n",
    "################################################################################\n",
    "# *****START OF YOUR CODE (DO NOT DELETE/MODIFY THIS LINE)*****\n",
    "results = {}\n",
    "\n",
    "\n",
    "learning_rates_count=5\n",
    "learning_rates_ = [2e-6,3e-6]\n",
    "learning_rates = np.linspace(learning_rates_[0],learning_rates_[1], endpoint=True,num=learning_rates_count)\n",
    "learning_rates = [0.002]\n",
    "\n",
    "regularization_strengths_count=5\n",
    "regularization_strengths_ = [1e3,2e3]\n",
    "regularization_strengths = np.linspace(regularization_strengths_[0],regularization_strengths_[1], endpoint=True,num=regularization_strengths_count)\n",
    "regularization_strengths = [0.015]\n",
    "\n",
    "hidden_dims = {\"d1\":[256,256,512],\"d2\":[256,256,256],\"d3\":[512,256,256]}\n",
    "hidden_dims = {\"d1\":[512,512,256,256]}#,\"d2\":[512,256,256]}#,\"d3\":[512,512,256,256]}\n",
    "weight_scales = [2e-3]#7e-2,3e-2#\n",
    "\n",
    "batch_sizes = [256]\n",
    "for ws in weight_scales:\n",
    "    for k, dims in hidden_dims.items():\n",
    "        for lr in learning_rates:\n",
    "            for reg in regularization_strengths:\n",
    "                results[(lr, reg, k,ws)] = 0\n",
    "                \n",
    "                \n",
    "                model = FullyConnectedNet(dims,\n",
    "                    weight_scale=ws, dtype=np.float64,reg=reg,normalization=\"batchnorm\")\n",
    "                solver = Solver(model, data,\n",
    "                                print_every=100, num_epochs=10, batch_size=batch_sizes[0],\n",
    "                                update_rule='sgd',\n",
    "                                optim_config={\n",
    "                                'learning_rate': lr,\n",
    "                                }\n",
    "                        )\n",
    "                solver.train()\n",
    "                \n",
    "                val_accuracy = solver.best_val_acc\n",
    "\n",
    "                results[(lr, reg, k,ws)] = val_accuracy\n",
    "                if(val_accuracy > best_val):\n",
    "                    best_val = val_accuracy\n",
    "                    best_model = model\n",
    "\n",
    "# *****END OF YOUR CODE (DO NOT DELETE/MODIFY THIS LINE)*****\n",
    "################################################################################\n",
    "#                              END OF YOUR CODE                                #\n",
    "################################################################################"
   ]
  },
  {
   "cell_type": "markdown",
   "metadata": {},
   "source": [
    "# Test your model!\n",
    "Run your best model on the validation and test sets. You should achieve above 50% accuracy on the validation set."
   ]
  },
  {
   "cell_type": "code",
   "execution_count": 27,
   "metadata": {},
   "outputs": [
    {
     "name": "stdout",
     "output_type": "stream",
     "text": [
      "Validation set accuracy:  0.555\n",
      "Test set accuracy:  0.514\n"
     ]
    }
   ],
   "source": [
    "y_test_pred = np.argmax(best_model.loss(data['X_test']), axis=1)\n",
    "y_val_pred = np.argmax(best_model.loss(data['X_val']), axis=1)\n",
    "print('Validation set accuracy: ', (y_val_pred == data['y_val']).mean())\n",
    "print('Test set accuracy: ', (y_test_pred == data['y_test']).mean())"
   ]
  },
  {
   "cell_type": "code",
   "execution_count": 28,
   "metadata": {},
   "outputs": [
    {
     "name": "stdout",
     "output_type": "stream",
     "text": [
      "{(0.002, 0.015, 'd1', 0.002): 0.56}\n"
     ]
    }
   ],
   "source": [
    "print(results)"
   ]
  },
  {
   "cell_type": "code",
   "execution_count": null,
   "metadata": {},
   "outputs": [],
   "source": []
  }
 ],
 "metadata": {
  "kernelspec": {
   "display_name": "Python 3",
   "language": "python",
   "name": "python3"
  },
  "language_info": {
   "codemirror_mode": {
    "name": "ipython",
    "version": 3
   },
   "file_extension": ".py",
   "mimetype": "text/x-python",
   "name": "python",
   "nbconvert_exporter": "python",
   "pygments_lexer": "ipython3",
   "version": "3.10.11"
  },
  "vscode": {
   "interpreter": {
    "hash": "a42ccb73e7d9bfdf27e036f1d2b8b681e55fc0743cc5586bc2474d4a60f4b886"
   }
  }
 },
 "nbformat": 4,
 "nbformat_minor": 4
}
