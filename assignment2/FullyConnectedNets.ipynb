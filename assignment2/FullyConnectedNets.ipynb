{
 "cells": [
  {
   "cell_type": "code",
   "execution_count": 1,
   "metadata": {},
   "outputs": [
    {
     "data": {
      "text/plain": [
       "\"\\n# this mounts your Google Drive to the Colab VM.\\nfrom google.colab import drive\\ndrive.mount('/content/drive', force_remount=True)\\n\\n\\n\\n# now that we've mounted your Drive, this ensures that\\n# the Python interpreter of the Colab VM can load\\n# python files from within it.\\nimport sys\\nsys.path.append('/content/drive/My Drive/{}'.format(FOLDERNAME))\\n\\n# this downloads the CIFAR-10 dataset to your Drive\\n# if it doesn't already exist.\\n%cd drive/My\\\\ Drive/$FOLDERNAME/CV7062610/datasets/\\n!bash get_datasets.sh\\n%cd /content\\n\""
      ]
     },
     "execution_count": 1,
     "metadata": {},
     "output_type": "execute_result"
    }
   ],
   "source": [
    "# enter the foldername in your Drive where you have saved the unzipped\n",
    "# assignment folder, e.g. 'CV7062610/assignments/assignment3/'\n",
    "FOLDERNAME = \"assignment2\"\n",
    "assert FOLDERNAME is not None, \"[!] Enter the foldername.\"\n",
    "\"\"\"\n",
    "# this mounts your Google Drive to the Colab VM.\n",
    "from google.colab import drive\n",
    "drive.mount('/content/drive', force_remount=True)\n",
    "\n",
    "\n",
    "\n",
    "# now that we've mounted your Drive, this ensures that\n",
    "# the Python interpreter of the Colab VM can load\n",
    "# python files from within it.\n",
    "import sys\n",
    "sys.path.append('/content/drive/My Drive/{}'.format(FOLDERNAME))\n",
    "\n",
    "# this downloads the CIFAR-10 dataset to your Drive\n",
    "# if it doesn't already exist.\n",
    "%cd drive/My\\ Drive/$FOLDERNAME/CV7062610/datasets/\n",
    "!bash get_datasets.sh\n",
    "%cd /content\n",
    "\"\"\""
   ]
  },
  {
   "cell_type": "markdown",
   "metadata": {
    "tags": [
     "pdf-title"
    ]
   },
   "source": [
    "# Fully-Connected Neural Nets\n",
    "In the previous homework you implemented a fully-connected two-layer neural network on CIFAR-10. The implementation was simple but not very modular since the loss and gradient were computed in a single monolithic function. This is manageable for a simple two-layer network, but would become impractical as we move to bigger models. Ideally we want to build networks using a more modular design so that we can implement different layer types in isolation and then snap them together into models with different architectures."
   ]
  },
  {
   "cell_type": "markdown",
   "metadata": {
    "tags": [
     "pdf-ignore"
    ]
   },
   "source": [
    "In this exercise we will implement fully-connected networks using a more modular approach. For each layer we will implement a `forward` and a `backward` function. The `forward` function will receive inputs, weights, and other parameters and will return both an output and a `cache` object storing data needed for the backward pass, like this:\n",
    "\n",
    "```python\n",
    "def layer_forward(x, w):\n",
    "  \"\"\" Receive inputs x and weights w \"\"\"\n",
    "  # Do some computations ...\n",
    "  z = # ... some intermediate value\n",
    "  # Do some more computations ...\n",
    "  out = # the output\n",
    "   \n",
    "  cache = (x, w, z, out) # Values we need to compute gradients\n",
    "   \n",
    "  return out, cache\n",
    "```\n",
    "\n",
    "The backward pass will receive upstream derivatives and the `cache` object, and will return gradients with respect to the inputs and weights, like this:\n",
    "\n",
    "```python\n",
    "def layer_backward(dout, cache):\n",
    "  \"\"\"\n",
    "  Receive dout (derivative of loss with respect to outputs) and cache,\n",
    "  and compute derivative with respect to inputs.\n",
    "  \"\"\"\n",
    "  # Unpack cache values\n",
    "  x, w, z, out = cache\n",
    "  \n",
    "  # Use values in cache to compute derivatives\n",
    "  dx = # Derivative of loss with respect to x\n",
    "  dw = # Derivative of loss with respect to w\n",
    "  \n",
    "  return dx, dw\n",
    "```\n",
    "\n",
    " \n",
    "After implementing a bunch of layers this way, we will be able to easily combine them to build classifiers with different architectures.\n",
    "\n",
    "In addition to implementing fully-connected networks of arbitrary depth,(in the second part of the assingment) we will explore different update rules for optimization, and introduce Dropout as a regularizer and Batch/Layer Normalization as a tool to more efficiently optimize deep networks.\n",
    "  "
   ]
  },
  {
   "cell_type": "code",
   "execution_count": 2,
   "metadata": {
    "tags": [
     "pdf-ignore"
    ]
   },
   "outputs": [
    {
     "name": "stdout",
     "output_type": "stream",
     "text": [
      "=========== You can safely ignore the message below if you are NOT working on ConvolutionalNetworks.ipynb ===========\n",
      "\tYou will need to compile a Cython extension for a portion of this assignment.\n",
      "\tThe instructions to do this will be given in a section of the notebook below.\n",
      "\tThere will be an option for Colab users and another for Jupyter (local) users.\n"
     ]
    }
   ],
   "source": [
    "# As usual, a bit of setup\n",
    "from __future__ import print_function\n",
    "import time\n",
    "import numpy as np\n",
    "import matplotlib.pyplot as plt\n",
    "from CV7062610.classifiers.fc_net import *\n",
    "from CV7062610.data_utils import get_CIFAR10_data\n",
    "from CV7062610.gradient_check import eval_numerical_gradient, eval_numerical_gradient_array\n",
    "from CV7062610.solver import Solver\n",
    "\n",
    "%matplotlib inline\n",
    "plt.rcParams['figure.figsize'] = (10.0, 8.0) # set default size of plots\n",
    "plt.rcParams['image.interpolation'] = 'nearest'\n",
    "plt.rcParams['image.cmap'] = 'gray'\n",
    "\n",
    "# for auto-reloading external modules\n",
    "# see http://stackoverflow.com/questions/1907993/autoreload-of-modules-in-ipython\n",
    "%load_ext autoreload\n",
    "%autoreload 2\n",
    "\n",
    "def rel_error(x, y):\n",
    "  \"\"\" returns relative error \"\"\"\n",
    "  return np.max(np.abs(x - y) / (np.maximum(1e-8, np.abs(x) + np.abs(y))))"
   ]
  },
  {
   "cell_type": "code",
   "execution_count": 3,
   "metadata": {},
   "outputs": [],
   "source": [
    "a=np.array([1,1,1])\n",
    "b=np.arange(18).reshape((3,6))\n"
   ]
  },
  {
   "cell_type": "code",
   "execution_count": 4,
   "metadata": {},
   "outputs": [
    {
     "data": {
      "text/plain": [
       "(array([ 6.,  7.,  8.,  9., 10., 11.]),\n",
       " array([ 6.,  7.,  8.,  9., 10., 11.]),\n",
       " array([[ 0,  1,  2,  3,  4,  5],\n",
       "        [ 6,  7,  8,  9, 10, 11],\n",
       "        [12, 13, 14, 15, 16, 17]]))"
      ]
     },
     "execution_count": 4,
     "metadata": {},
     "output_type": "execute_result"
    }
   ],
   "source": [
    "a@b/3, b.mean(axis=0),b"
   ]
  },
  {
   "cell_type": "code",
   "execution_count": 5,
   "metadata": {},
   "outputs": [
    {
     "data": {
      "text/plain": [
       "(array([24., 24., 24., 24., 24., 24.]), array([24., 24., 24., 24., 24., 24.]))"
      ]
     },
     "execution_count": 5,
     "metadata": {},
     "output_type": "execute_result"
    }
   ],
   "source": [
    "a@((b-a@b/3)**2)/3,b.var(axis=0)"
   ]
  },
  {
   "cell_type": "code",
   "execution_count": 6,
   "metadata": {},
   "outputs": [
    {
     "name": "stdout",
     "output_type": "stream",
     "text": [
      "mean: 2.206434146501124e-09\n",
      "mean: 3.604218363761902e-06\n",
      "mean: 4.420144250616431e-10\n",
      "mean: 7.096678018569946e-07\n",
      "mean: 2.0208972273394465e-09\n",
      "mean: 3.723427653312683e-06\n",
      "mean: 9.285940905101597e-10\n",
      "mean: 1.6167759895324707e-06\n",
      "mean: 1.7953425412997603e-09\n",
      "mean: 3.1543895602226257e-06\n",
      "mean: 2.3037500795908272e-09\n",
      "mean: 4.050321877002716e-06\n",
      "mean: 8.858478395268321e-10\n",
      "mean: 1.51805579662323e-06\n",
      "mean: 1.3969838619232178e-09\n",
      "mean: 2.4279579520225525e-06\n",
      "mean: 6.784830475226045e-10\n",
      "mean: 1.2814998626708984e-06\n",
      "mean: 2.230990503448993e-09\n",
      "mean: 3.959983587265015e-06\n"
     ]
    }
   ],
   "source": [
    "for i in range(10):\n",
    "    b = np.random.rand(np.random.randint(1,1000),np.random.randint(1,1000))*10000 - 10000\n",
    "    a = np.ones(b.shape[0])\n",
    "    print(\"mean:\",np.sum(np.abs((a@b/b.shape[0])-b.mean(axis=0))))\n",
    "    print(\"mean:\",np.sum(np.abs((a@((b-a@b/b.shape[0])**2)/b.shape[0])-b.var(axis=0))))"
   ]
  },
  {
   "cell_type": "code",
   "execution_count": 7,
   "metadata": {
    "tags": [
     "pdf-ignore"
    ]
   },
   "outputs": [
    {
     "name": "stdout",
     "output_type": "stream",
     "text": [
      "('X_train: ', (49000, 3, 32, 32))\n",
      "('y_train: ', (49000,))\n",
      "('X_val: ', (1000, 3, 32, 32))\n",
      "('y_val: ', (1000,))\n",
      "('X_test: ', (1000, 3, 32, 32))\n",
      "('y_test: ', (1000,))\n"
     ]
    }
   ],
   "source": [
    "# Load the (preprocessed) CIFAR10 data.\n",
    "\n",
    "data = get_CIFAR10_data()\n",
    "for k, v in list(data.items()):\n",
    "  print(('%s: ' % k, v.shape))"
   ]
  },
  {
   "cell_type": "markdown",
   "metadata": {},
   "source": [
    "# Affine layer (fully-conected): forward\n",
    "Open the file `CV7062610/layers.py` and implement the `affine_forward` function.\n",
    "\n",
    "Once you are done you can test your implementaion by running the following:"
   ]
  },
  {
   "cell_type": "code",
   "execution_count": 8,
   "metadata": {},
   "outputs": [
    {
     "name": "stdout",
     "output_type": "stream",
     "text": [
      "Testing affine_forward function:\n",
      "difference:  9.769849468192957e-10\n"
     ]
    }
   ],
   "source": [
    "# Test the affine_forward function\n",
    "\n",
    "num_inputs = 2\n",
    "input_shape = (4, 5, 6)\n",
    "output_dim = 3\n",
    "\n",
    "input_size = num_inputs * np.prod(input_shape)\n",
    "weight_size = output_dim * np.prod(input_shape)\n",
    "\n",
    "x = np.linspace(-0.1, 0.5, num=input_size).reshape(num_inputs, *input_shape)\n",
    "w = np.linspace(-0.2, 0.3, num=weight_size).reshape(np.prod(input_shape), output_dim)\n",
    "b = np.linspace(-0.3, 0.1, num=output_dim)\n",
    "\n",
    "out, _ = affine_forward(x, w, b)\n",
    "correct_out = np.array([[ 1.49834967,  1.70660132,  1.91485297],\n",
    "                        [ 3.25553199,  3.5141327,   3.77273342]])\n",
    "\n",
    "# Compare your output with ours. The error should be around e-9 or less.\n",
    "print('Testing affine_forward function:')\n",
    "print('difference: ', rel_error(out, correct_out))\n",
    "\n"
   ]
  },
  {
   "attachments": {},
   "cell_type": "markdown",
   "metadata": {},
   "source": [
    "# Affine layer: backward\n",
    "Now implement the `affine_backward` function and test your implementation using numeric gradient checking."
   ]
  },
  {
   "cell_type": "code",
   "execution_count": 9,
   "metadata": {},
   "outputs": [
    {
     "name": "stdout",
     "output_type": "stream",
     "text": [
      "Testing affine_backward function:\n",
      "dx error:  5.399100368651805e-11\n",
      "dw error:  9.904211865398145e-11\n",
      "db error:  2.4122867568119087e-11\n"
     ]
    }
   ],
   "source": [
    "# Test the affine_backward function\n",
    "np.random.seed(231)\n",
    "x = np.random.randn(10, 2, 3)\n",
    "w = np.random.randn(6, 5)\n",
    "b = np.random.randn(5)\n",
    "dout = np.random.randn(10, 5)\n",
    "\n",
    "dx_num = eval_numerical_gradient_array(lambda x: affine_forward(x, w, b)[0], x, dout)\n",
    "dw_num = eval_numerical_gradient_array(lambda w: affine_forward(x, w, b)[0], w, dout)\n",
    "db_num = eval_numerical_gradient_array(lambda b: affine_forward(x, w, b)[0], b, dout)\n",
    "\n",
    "_, cache = affine_forward(x, w, b)\n",
    "dx, dw, db = affine_backward(dout, cache)\n",
    "\n",
    "# The error should be around e-10 or less\n",
    "print('Testing affine_backward function:')\n",
    "print('dx error: ', rel_error(dx_num, dx))\n",
    "print('dw error: ', rel_error(dw_num, dw))\n",
    "print('db error: ', rel_error(db_num, db))"
   ]
  },
  {
   "attachments": {},
   "cell_type": "markdown",
   "metadata": {},
   "source": [
    "# bachnorm layer: backward\n"
   ]
  },
  {
   "cell_type": "code",
   "execution_count": 16,
   "metadata": {},
   "outputs": [
    {
     "name": "stdout",
     "output_type": "stream",
     "text": [
      "Testing affine_backward function:\n",
      "dx error:  2.7418766314484827e-09\n",
      "dw error:  1.5501693476896768e-11\n",
      "db error:  3.275618226365503e-12\n",
      "[[ 4.21698099e+00  8.88614892e-02  5.99731122e-01]\n",
      " [-9.98862658e-01 -1.62357556e-01  2.30464377e-03]\n",
      " [-1.74242767e-01  2.93993602e-01  4.59395517e-01]\n",
      " [-1.13383461e+00  2.70282856e-02 -7.78963893e-01]\n",
      " [ 5.52954478e-03 -1.93912610e-01 -6.25584154e-01]\n",
      " [ 3.38350357e-02 -1.40124044e-02  5.96860455e-01]\n",
      " [-3.25597285e+00  1.13751677e-01  4.99200290e-01]\n",
      " [ 5.97252799e-01 -1.38739710e+00  8.41235921e-01]\n",
      " [ 1.93132571e+00  2.16353168e-01 -1.09558713e+00]\n",
      " [ 7.82276344e-02 -1.52356658e-01 -1.22670491e+00]\n",
      " [-2.29667964e+00  2.19024071e-01 -6.14110102e-01]\n",
      " [-1.31846759e+00  7.40489907e-02 -7.20622921e-01]\n",
      " [ 1.36663490e+00  4.07999488e-01  2.78298289e-01]\n",
      " [ 6.80293274e-01  2.10689517e-01 -2.18965386e-02]\n",
      " [-1.94647773e+00  1.65682651e-02  2.84019446e-02]\n",
      " [ 7.27054874e-01  2.63818530e-01  1.02290461e+00]\n",
      " [ 2.03591014e+00 -3.30193505e-01  2.98144768e-03]\n",
      " [-7.62264824e-01  2.28697783e-02  1.29980479e+00]\n",
      " [ 1.52922759e+00 -1.13430890e-01  2.06761009e-01]\n",
      " [-1.31546982e+00  3.98653862e-01 -7.54410381e-01]] [[ 4.21698099e+00  8.88614892e-02  5.99731122e-01]\n",
      " [-9.98862658e-01 -1.62357556e-01  2.30464377e-03]\n",
      " [-1.74242767e-01  2.93993602e-01  4.59395517e-01]\n",
      " [-1.13383461e+00  2.70282856e-02 -7.78963893e-01]\n",
      " [ 5.52954481e-03 -1.93912610e-01 -6.25584154e-01]\n",
      " [ 3.38350356e-02 -1.40124044e-02  5.96860455e-01]\n",
      " [-3.25597285e+00  1.13751677e-01  4.99200290e-01]\n",
      " [ 5.97252799e-01 -1.38739710e+00  8.41235921e-01]\n",
      " [ 1.93132571e+00  2.16353168e-01 -1.09558713e+00]\n",
      " [ 7.82276344e-02 -1.52356658e-01 -1.22670491e+00]\n",
      " [-2.29667964e+00  2.19024071e-01 -6.14110102e-01]\n",
      " [-1.31846759e+00  7.40489907e-02 -7.20622921e-01]\n",
      " [ 1.36663490e+00  4.07999488e-01  2.78298289e-01]\n",
      " [ 6.80293274e-01  2.10689517e-01 -2.18965386e-02]\n",
      " [-1.94647773e+00  1.65682652e-02  2.84019446e-02]\n",
      " [ 7.27054874e-01  2.63818530e-01  1.02290461e+00]\n",
      " [ 2.03591014e+00 -3.30193505e-01  2.98144768e-03]\n",
      " [-7.62264824e-01  2.28697783e-02  1.29980479e+00]\n",
      " [ 1.52922759e+00 -1.13430890e-01  2.06761009e-01]\n",
      " [-1.31546982e+00  3.98653862e-01 -7.54410381e-01]]\n"
     ]
    }
   ],
   "source": [
    "# Test the affine_backward function\n",
    "np.random.seed(231)\n",
    "x = np.random.randn(20, 3)\n",
    "gamma = np.random.randn(3)\n",
    "beta = np.random.randn(3)\n",
    "dout = np.random.randn(20, 3)\n",
    "bn_params={}\n",
    "bn_params[\"mode\"]='check'\n",
    "\n",
    "dx_num = eval_numerical_gradient_array(lambda x: bachnorm_foward(x, gamma,beta, bn_params)[0], x, dout)\n",
    "\n",
    "dgamma_num = eval_numerical_gradient_array(lambda gamma: bachnorm_foward(x, gamma,beta, bn_params)[0], gamma, dout)\n",
    "dbeta_num = eval_numerical_gradient_array(lambda beta: bachnorm_foward(x, gamma,beta, bn_params)[0], beta, dout)\n",
    "\n",
    "_, cache = bachnorm_foward(x, gamma, beta,bn_params)\n",
    "dx, dgamma, dbeta = bachnorm_backward(dout, cache)\n",
    "\n",
    "# The error should be around e-10 or less\n",
    "print('Testing affine_backward function:')\n",
    "print('dx error: ', rel_error(dx_num, dx))\n",
    "print('dw error: ', rel_error(dgamma_num, dgamma))\n",
    "print('db error: ', rel_error(dbeta_num, dbeta))\n",
    "print(dx_num,dx)"
   ]
  },
  {
   "cell_type": "markdown",
   "metadata": {},
   "source": [
    "# ReLU activation: forward\n",
    "Implement the forward pass for the ReLU activation function in the `relu_forward` function and test your implementation using the following:"
   ]
  },
  {
   "cell_type": "code",
   "execution_count": 11,
   "metadata": {},
   "outputs": [
    {
     "name": "stdout",
     "output_type": "stream",
     "text": [
      "Testing relu_forward function:\n",
      "difference:  4.999999798022158e-08\n"
     ]
    }
   ],
   "source": [
    "# Test the relu_forward function\n",
    "\n",
    "x = np.linspace(-0.5, 0.5, num=12).reshape(3, 4)\n",
    "\n",
    "out, _ = relu_forward(x)\n",
    "correct_out = np.array([[ 0.,          0.,          0.,          0.,        ],\n",
    "                        [ 0.,          0.,          0.04545455,  0.13636364,],\n",
    "                        [ 0.22727273,  0.31818182,  0.40909091,  0.5,       ]])\n",
    "\n",
    "# Compare your output with ours. The error should be on the order of e-8\n",
    "print('Testing relu_forward function:')\n",
    "print('difference: ', rel_error(out, correct_out))"
   ]
  },
  {
   "cell_type": "markdown",
   "metadata": {},
   "source": [
    "# ReLU activation: backward\n",
    "Now implement the backward pass for the ReLU activation function in the `relu_backward` function and test your implementation using numeric gradient checking:"
   ]
  },
  {
   "cell_type": "code",
   "execution_count": 12,
   "metadata": {},
   "outputs": [
    {
     "name": "stdout",
     "output_type": "stream",
     "text": [
      "Testing relu_backward function:\n",
      "dx error:  3.2756349136310288e-12\n"
     ]
    }
   ],
   "source": [
    "np.random.seed(231)\n",
    "x = np.random.randn(10, 10)\n",
    "dout = np.random.randn(*x.shape)\n",
    "\n",
    "dx_num = eval_numerical_gradient_array(lambda x: relu_forward(x)[0], x, dout)\n",
    "\n",
    "_, cache = relu_forward(x)\n",
    "dx = relu_backward(dout, cache)\n",
    "\n",
    "# The error should be on the order of e-12\n",
    "print('Testing relu_backward function:')\n",
    "print('dx error: ', rel_error(dx_num, dx))"
   ]
  },
  {
   "cell_type": "markdown",
   "metadata": {
    "tags": [
     "pdf-inline"
    ]
   },
   "source": [
    "## Inline Question 1: \n",
    "\n",
    "We've only asked you to implement ReLU, but there are a number of different activation functions that one could use in neural networks, each with its pros and cons. In particular, an issue commonly seen with activation functions is getting zero (or close to zero) gradient flow during backpropagation. Which of the following activation functions have this problem? If you consider these functions in the one dimensional case, what types of input would lead to this behaviour?\n",
    "1. Sigmoid\n",
    "2. ReLU\n",
    "3. Leaky ReLU\n",
    "\n",
    "## Answer:\n",
    "[FILL THIS IN]\n"
   ]
  },
  {
   "cell_type": "markdown",
   "metadata": {},
   "source": [
    "# \"Sandwich\" layers\n",
    "There are some common patterns of layers that are frequently used in neural nets. For example, affine layers are frequently followed by a ReLU nonlinearity. To make these common patterns easy, we define several convenience layers in the file `CV7062610/layer_utils.py`.\n",
    "\n",
    "For now take a look at the `affine_relu_forward` and `affine_relu_backward` functions, and run the following to numerically gradient check the backward pass:"
   ]
  },
  {
   "cell_type": "code",
   "execution_count": 13,
   "metadata": {},
   "outputs": [
    {
     "name": "stdout",
     "output_type": "stream",
     "text": [
      "Testing affine_relu_forward and affine_relu_backward:\n",
      "dx error:  2.299579177309368e-11\n",
      "dw error:  8.162011105764925e-11\n",
      "db error:  7.826724021458994e-12\n"
     ]
    }
   ],
   "source": [
    "from CV7062610.layer_utils import affine_relu_forward, affine_relu_backward\n",
    "np.random.seed(231)\n",
    "x = np.random.randn(2, 3, 4)\n",
    "w = np.random.randn(12, 10)\n",
    "b = np.random.randn(10)\n",
    "dout = np.random.randn(2, 10)\n",
    "\n",
    "out, cache = affine_relu_forward(x, w, b)\n",
    "dx, dw, db = affine_relu_backward(dout, cache)\n",
    "\n",
    "dx_num = eval_numerical_gradient_array(lambda x: affine_relu_forward(x, w, b)[0], x, dout)\n",
    "dw_num = eval_numerical_gradient_array(lambda w: affine_relu_forward(x, w, b)[0], w, dout)\n",
    "db_num = eval_numerical_gradient_array(lambda b: affine_relu_forward(x, w, b)[0], b, dout)\n",
    "\n",
    "# Relative error should be around e-10 or less\n",
    "print('Testing affine_relu_forward and affine_relu_backward:')\n",
    "print('dx error: ', rel_error(dx_num, dx))\n",
    "print('dw error: ', rel_error(dw_num, dw))\n",
    "print('db error: ', rel_error(db_num, db))"
   ]
  },
  {
   "cell_type": "markdown",
   "metadata": {},
   "source": [
    "# Loss layers: Softmax\n",
    "You implemented this loss functions in the last assignment, so we'll give it to you for free here. You should still make sure you understand how it work by looking at the implementations in `CV7062610/layers.py`.\n",
    "\n",
    "You can make sure that the implementations are correct by running the following:"
   ]
  },
  {
   "cell_type": "code",
   "execution_count": 14,
   "metadata": {},
   "outputs": [
    {
     "name": "stdout",
     "output_type": "stream",
     "text": [
      "\n",
      "Testing softmax_loss:\n",
      "loss:  2.302545844500738\n",
      "dx error:  9.736508895603299e-09\n"
     ]
    }
   ],
   "source": [
    "np.random.seed(231)\n",
    "num_classes, num_inputs = 10, 50\n",
    "x = 0.001 * np.random.randn(num_inputs, num_classes)\n",
    "y = np.random.randint(num_classes, size=num_inputs)\n",
    "\n",
    "dx_num = eval_numerical_gradient(lambda x: softmax_loss(x, y)[0], x, verbose=False)\n",
    "loss, dx = softmax_loss(x, y)\n",
    "\n",
    "# Test softmax_loss function. Loss should be close to 2.3 and dx error should be around e-8\n",
    "print('\\nTesting softmax_loss:')\n",
    "print('loss: ', loss)\n",
    "print('dx error: ', rel_error(dx_num, dx))\n"
   ]
  },
  {
   "cell_type": "markdown",
   "metadata": {},
   "source": [
    "# Two-layer network\n",
    "In the previous assignment you implemented a two-layer neural network in a single monolithic class. Now that you have implemented modular versions of the necessary layers, you will reimplement the two layer network using these modular implementations.\n",
    "\n",
    "Open the file `CV7062610\n",
    "/classifiers/fc_net.py` and complete the implementation of the `TwoLayerNet` class. This class will serve as a model for the other networks you will implement in this assignment, so read through it to make sure you understand the API. You can run the cell below to test your implementation."
   ]
  },
  {
   "cell_type": "code",
   "execution_count": 15,
   "metadata": {},
   "outputs": [
    {
     "name": "stdout",
     "output_type": "stream",
     "text": [
      "Testing initialization ... \n",
      "Testing test-time forward pass ... \n",
      "Testing training loss (no regularization)\n",
      "Running numeric gradient check with reg =  0.0\n",
      "W1 relative error: 1.83e-08\n",
      "W2 relative error: 3.31e-10\n",
      "b1 relative error: 9.83e-09\n",
      "b2 relative error: 4.33e-10\n",
      "Running numeric gradient check with reg =  0.7\n",
      "W1 relative error: 2.53e-07\n",
      "W2 relative error: 7.98e-08\n",
      "b1 relative error: 1.35e-08\n",
      "b2 relative error: 7.76e-10\n"
     ]
    }
   ],
   "source": [
    "np.random.seed(231)\n",
    "N, D, H, C = 3, 5, 50, 7\n",
    "X = np.random.randn(N, D)\n",
    "y = np.random.randint(C, size=N)\n",
    "\n",
    "std = 1e-3\n",
    "model = TwoLayerNet(input_dim=D, hidden_dim=H, num_classes=C, weight_scale=std)\n",
    "\n",
    "print('Testing initialization ... ')\n",
    "W1_std = abs(model.params['W1'].std() - std)\n",
    "b1 = model.params['b1']\n",
    "W2_std = abs(model.params['W2'].std() - std)\n",
    "b2 = model.params['b2']\n",
    "assert W1_std < std / 10, 'First layer weights do not seem right'\n",
    "assert np.all(b1 == 0), 'First layer biases do not seem right'\n",
    "assert W2_std < std / 10, 'Second layer weights do not seem right'\n",
    "assert np.all(b2 == 0), 'Second layer biases do not seem right'\n",
    "\n",
    "print('Testing test-time forward pass ... ')\n",
    "model.params['W1'] = np.linspace(-0.7, 0.3, num=D*H).reshape(D, H)\n",
    "model.params['b1'] = np.linspace(-0.1, 0.9, num=H)\n",
    "model.params['W2'] = np.linspace(-0.3, 0.4, num=H*C).reshape(H, C)\n",
    "model.params['b2'] = np.linspace(-0.9, 0.1, num=C)\n",
    "X = np.linspace(-5.5, 4.5, num=N*D).reshape(D, N).T\n",
    "scores = model.loss(X)\n",
    "correct_scores = np.asarray(\n",
    "  [[11.53165108,  12.2917344,   13.05181771,  13.81190102,  14.57198434, 15.33206765,  16.09215096],\n",
    "   [12.05769098,  12.74614105,  13.43459113,  14.1230412,   14.81149128, 15.49994135,  16.18839143],\n",
    "   [12.58373087,  13.20054771,  13.81736455,  14.43418138,  15.05099822, 15.66781506,  16.2846319 ]])\n",
    "scores_diff = np.abs(scores - correct_scores).sum()\n",
    "assert scores_diff < 1e-6, 'Problem with test-time forward pass'\n",
    "\n",
    "print('Testing training loss (no regularization)')\n",
    "y = np.asarray([0, 5, 1])\n",
    "loss, grads = model.loss(X, y)\n",
    "correct_loss = 3.4702243556\n",
    "assert abs(loss - correct_loss) < 1e-10, 'Problem with training-time loss'\n",
    "\n",
    "model.reg = 1.0\n",
    "loss, grads = model.loss(X, y)\n",
    "correct_loss = 26.5948426952\n",
    "assert abs(loss - correct_loss) < 1e-10, 'Problem with regularization loss'\n",
    "\n",
    "# Errors should be around e-7 or less\n",
    "for reg in [0.0, 0.7]:\n",
    "  print('Running numeric gradient check with reg = ', reg)\n",
    "  model.reg = reg\n",
    "  loss, grads = model.loss(X, y)\n",
    "\n",
    "  for name in sorted(grads):\n",
    "    f = lambda _: model.loss(X, y)[0]\n",
    "    grad_num = eval_numerical_gradient(f, model.params[name], verbose=False)\n",
    "    print('%s relative error: %.2e' % (name, rel_error(grad_num, grads[name])))"
   ]
  },
  {
   "cell_type": "markdown",
   "metadata": {},
   "source": [
    "# Solver\n",
    "In the previous assignment, the logic for training models was coupled to the models themselves. Following a more modular design, for this assignment we have split the logic for training models into a separate class.\n",
    "\n",
    "Open the file `CV7062610/solver.py` and read through it to familiarize yourself with the API. After doing so, use a `Solver` instance to train a `TwoLayerNet` that achieves at least `45%` accuracy on the validation set. If you are doing it corectly this shouldn't take more than 5 epochs of training and more than 5 minuts using vanilla sgd."
   ]
  },
  {
   "cell_type": "code",
   "execution_count": null,
   "metadata": {
    "id": "tln_solver_accuracy"
   },
   "outputs": [
    {
     "name": "stdout",
     "output_type": "stream",
     "text": [
      "(Iteration 1 / 2450) loss: 2.308092\n",
      "(Epoch 0 / 5) train acc: 0.115000; val_acc: 0.126000\n",
      "(Iteration 11 / 2450) loss: 2.271156\n",
      "(Iteration 21 / 2450) loss: 2.253108\n",
      "(Iteration 31 / 2450) loss: 2.214854\n",
      "(Iteration 41 / 2450) loss: 2.059682\n",
      "(Iteration 51 / 2450) loss: 2.097038\n",
      "(Iteration 61 / 2450) loss: 2.019322\n",
      "(Iteration 71 / 2450) loss: 2.063117\n",
      "(Iteration 81 / 2450) loss: 1.985572\n",
      "(Iteration 91 / 2450) loss: 1.976039\n",
      "(Iteration 101 / 2450) loss: 1.901940\n",
      "(Iteration 111 / 2450) loss: 1.838155\n",
      "(Iteration 121 / 2450) loss: 1.905950\n",
      "(Iteration 131 / 2450) loss: 1.869498\n",
      "(Iteration 141 / 2450) loss: 1.857410\n",
      "(Iteration 151 / 2450) loss: 1.844371\n",
      "(Iteration 161 / 2450) loss: 1.812417\n",
      "(Iteration 171 / 2450) loss: 1.898844\n",
      "(Iteration 181 / 2450) loss: 1.868865\n",
      "(Iteration 191 / 2450) loss: 1.887187\n",
      "(Iteration 201 / 2450) loss: 1.777470\n",
      "(Iteration 211 / 2450) loss: 1.823308\n",
      "(Iteration 221 / 2450) loss: 1.759296\n",
      "(Iteration 231 / 2450) loss: 1.621415\n",
      "(Iteration 241 / 2450) loss: 1.761546\n",
      "(Iteration 251 / 2450) loss: 1.608460\n",
      "(Iteration 261 / 2450) loss: 1.668495\n",
      "(Iteration 271 / 2450) loss: 1.661315\n",
      "(Iteration 281 / 2450) loss: 1.699856\n",
      "(Iteration 291 / 2450) loss: 1.740084\n",
      "(Iteration 301 / 2450) loss: 1.678036\n",
      "(Iteration 311 / 2450) loss: 1.773063\n",
      "(Iteration 321 / 2450) loss: 1.598440\n",
      "(Iteration 331 / 2450) loss: 1.662112\n",
      "(Iteration 341 / 2450) loss: 1.696833\n",
      "(Iteration 351 / 2450) loss: 1.691781\n",
      "(Iteration 361 / 2450) loss: 1.765012\n",
      "(Iteration 371 / 2450) loss: 1.661032\n",
      "(Iteration 381 / 2450) loss: 1.701991\n",
      "(Iteration 391 / 2450) loss: 1.757174\n",
      "(Iteration 401 / 2450) loss: 1.522687\n",
      "(Iteration 411 / 2450) loss: 1.572041\n",
      "(Iteration 421 / 2450) loss: 1.663095\n",
      "(Iteration 431 / 2450) loss: 1.748941\n",
      "(Iteration 441 / 2450) loss: 1.609568\n",
      "(Iteration 451 / 2450) loss: 1.732630\n",
      "(Iteration 461 / 2450) loss: 1.532582\n",
      "(Iteration 471 / 2450) loss: 1.746481\n",
      "(Iteration 481 / 2450) loss: 1.655641\n",
      "(Epoch 1 / 5) train acc: 0.436000; val_acc: 0.430000\n",
      "(Iteration 491 / 2450) loss: 1.450218\n",
      "(Iteration 501 / 2450) loss: 1.565472\n",
      "(Iteration 511 / 2450) loss: 1.709861\n",
      "(Iteration 521 / 2450) loss: 1.485165\n",
      "(Iteration 531 / 2450) loss: 1.498166\n",
      "(Iteration 541 / 2450) loss: 1.530823\n",
      "(Iteration 551 / 2450) loss: 1.470765\n",
      "(Iteration 561 / 2450) loss: 1.670411\n",
      "(Iteration 571 / 2450) loss: 1.733141\n",
      "(Iteration 581 / 2450) loss: 1.474475\n",
      "(Iteration 591 / 2450) loss: 1.585163\n",
      "(Iteration 601 / 2450) loss: 1.422232\n",
      "(Iteration 611 / 2450) loss: 1.726418\n",
      "(Iteration 621 / 2450) loss: 1.680836\n",
      "(Iteration 631 / 2450) loss: 1.635559\n",
      "(Iteration 641 / 2450) loss: 1.404214\n",
      "(Iteration 651 / 2450) loss: 1.495385\n",
      "(Iteration 661 / 2450) loss: 1.497616\n",
      "(Iteration 671 / 2450) loss: 1.538017\n",
      "(Iteration 681 / 2450) loss: 1.385333\n",
      "(Iteration 691 / 2450) loss: 1.653745\n",
      "(Iteration 701 / 2450) loss: 1.553643\n",
      "(Iteration 711 / 2450) loss: 1.487507\n",
      "(Iteration 721 / 2450) loss: 1.570737\n",
      "(Iteration 731 / 2450) loss: 1.479565\n",
      "(Iteration 741 / 2450) loss: 1.592251\n",
      "(Iteration 751 / 2450) loss: 1.651460\n",
      "(Iteration 761 / 2450) loss: 1.498338\n",
      "(Iteration 771 / 2450) loss: 1.511664\n",
      "(Iteration 781 / 2450) loss: 1.509144\n",
      "(Iteration 791 / 2450) loss: 1.596550\n",
      "(Iteration 801 / 2450) loss: 1.603444\n",
      "(Iteration 811 / 2450) loss: 1.599151\n",
      "(Iteration 821 / 2450) loss: 1.444212\n",
      "(Iteration 831 / 2450) loss: 1.569442\n",
      "(Iteration 841 / 2450) loss: 1.456064\n",
      "(Iteration 851 / 2450) loss: 1.566533\n",
      "(Iteration 861 / 2450) loss: 1.413996\n",
      "(Iteration 871 / 2450) loss: 1.560505\n",
      "(Iteration 881 / 2450) loss: 1.619780\n",
      "(Iteration 891 / 2450) loss: 1.471646\n",
      "(Iteration 901 / 2450) loss: 1.422320\n",
      "(Iteration 911 / 2450) loss: 1.291858\n",
      "(Iteration 921 / 2450) loss: 1.374121\n",
      "(Iteration 931 / 2450) loss: 1.520950\n",
      "(Iteration 941 / 2450) loss: 1.521306\n",
      "(Iteration 951 / 2450) loss: 1.507825\n",
      "(Iteration 961 / 2450) loss: 1.638220\n",
      "(Iteration 971 / 2450) loss: 1.642916\n",
      "(Epoch 2 / 5) train acc: 0.464000; val_acc: 0.452000\n",
      "(Iteration 981 / 2450) loss: 1.312613\n",
      "(Iteration 991 / 2450) loss: 1.474193\n",
      "(Iteration 1001 / 2450) loss: 1.545407\n",
      "(Iteration 1011 / 2450) loss: 1.625818\n",
      "(Iteration 1021 / 2450) loss: 1.455810\n",
      "(Iteration 1031 / 2450) loss: 1.453950\n",
      "(Iteration 1041 / 2450) loss: 1.410118\n",
      "(Iteration 1051 / 2450) loss: 1.635355\n",
      "(Iteration 1061 / 2450) loss: 1.447561\n",
      "(Iteration 1071 / 2450) loss: 1.767030\n",
      "(Iteration 1081 / 2450) loss: 1.518359\n",
      "(Iteration 1091 / 2450) loss: 1.487856\n",
      "(Iteration 1101 / 2450) loss: 1.473354\n",
      "(Iteration 1111 / 2450) loss: 1.535542\n",
      "(Iteration 1121 / 2450) loss: 1.463635\n",
      "(Iteration 1131 / 2450) loss: 1.532340\n",
      "(Iteration 1141 / 2450) loss: 1.599481\n",
      "(Iteration 1151 / 2450) loss: 1.488831\n",
      "(Iteration 1161 / 2450) loss: 1.596821\n",
      "(Iteration 1171 / 2450) loss: 1.438011\n",
      "(Iteration 1181 / 2450) loss: 1.600474\n",
      "(Iteration 1191 / 2450) loss: 1.274568\n",
      "(Iteration 1201 / 2450) loss: 1.627345\n",
      "(Iteration 1211 / 2450) loss: 1.666804\n",
      "(Iteration 1221 / 2450) loss: 1.386339\n",
      "(Iteration 1231 / 2450) loss: 1.534265\n",
      "(Iteration 1241 / 2450) loss: 1.306770\n",
      "(Iteration 1251 / 2450) loss: 1.407372\n",
      "(Iteration 1261 / 2450) loss: 1.591954\n",
      "(Iteration 1271 / 2450) loss: 1.349164\n",
      "(Iteration 1281 / 2450) loss: 1.313444\n",
      "(Iteration 1291 / 2450) loss: 1.526261\n",
      "(Iteration 1301 / 2450) loss: 1.526529\n",
      "(Iteration 1311 / 2450) loss: 1.368532\n",
      "(Iteration 1321 / 2450) loss: 1.534101\n",
      "(Iteration 1331 / 2450) loss: 1.424245\n",
      "(Iteration 1341 / 2450) loss: 1.412413\n",
      "(Iteration 1351 / 2450) loss: 1.261962\n",
      "(Iteration 1361 / 2450) loss: 1.348673\n",
      "(Iteration 1371 / 2450) loss: 1.391631\n",
      "(Iteration 1381 / 2450) loss: 1.405038\n",
      "(Iteration 1391 / 2450) loss: 1.349217\n",
      "(Iteration 1401 / 2450) loss: 1.353183\n",
      "(Iteration 1411 / 2450) loss: 1.671844\n",
      "(Iteration 1421 / 2450) loss: 1.427081\n",
      "(Iteration 1431 / 2450) loss: 1.470502\n",
      "(Iteration 1441 / 2450) loss: 1.253160\n",
      "(Iteration 1451 / 2450) loss: 1.377949\n",
      "(Iteration 1461 / 2450) loss: 1.208000\n",
      "(Epoch 3 / 5) train acc: 0.534000; val_acc: 0.484000\n",
      "(Iteration 1471 / 2450) loss: 1.446251\n",
      "(Iteration 1481 / 2450) loss: 1.224479\n",
      "(Iteration 1491 / 2450) loss: 1.352544\n",
      "(Iteration 1501 / 2450) loss: 1.443293\n",
      "(Iteration 1511 / 2450) loss: 1.406644\n",
      "(Iteration 1521 / 2450) loss: 1.445102\n",
      "(Iteration 1531 / 2450) loss: 1.417152\n",
      "(Iteration 1541 / 2450) loss: 1.326457\n",
      "(Iteration 1551 / 2450) loss: 1.340762\n",
      "(Iteration 1561 / 2450) loss: 1.303361\n",
      "(Iteration 1571 / 2450) loss: 1.294773\n",
      "(Iteration 1581 / 2450) loss: 1.433408\n",
      "(Iteration 1591 / 2450) loss: 1.322885\n",
      "(Iteration 1601 / 2450) loss: 1.412190\n",
      "(Iteration 1611 / 2450) loss: 1.416280\n",
      "(Iteration 1621 / 2450) loss: 1.217308\n",
      "(Iteration 1631 / 2450) loss: 1.538336\n",
      "(Iteration 1641 / 2450) loss: 1.244608\n",
      "(Iteration 1651 / 2450) loss: 1.395619\n",
      "(Iteration 1661 / 2450) loss: 1.450607\n",
      "(Iteration 1671 / 2450) loss: 1.436120\n",
      "(Iteration 1681 / 2450) loss: 1.403233\n",
      "(Iteration 1691 / 2450) loss: 1.468666\n",
      "(Iteration 1701 / 2450) loss: 1.333848\n",
      "(Iteration 1711 / 2450) loss: 1.288329\n",
      "(Iteration 1721 / 2450) loss: 1.276960\n",
      "(Iteration 1731 / 2450) loss: 1.337773\n",
      "(Iteration 1741 / 2450) loss: 1.225104\n",
      "(Iteration 1751 / 2450) loss: 1.382350\n",
      "(Iteration 1761 / 2450) loss: 1.480192\n",
      "(Iteration 1771 / 2450) loss: 1.287870\n",
      "(Iteration 1781 / 2450) loss: 1.346901\n",
      "(Iteration 1791 / 2450) loss: 1.452510\n",
      "(Iteration 1801 / 2450) loss: 1.360351\n",
      "(Iteration 1811 / 2450) loss: 1.346207\n",
      "(Iteration 1821 / 2450) loss: 1.374866\n",
      "(Iteration 1831 / 2450) loss: 1.444367\n",
      "(Iteration 1841 / 2450) loss: 1.405110\n",
      "(Iteration 1851 / 2450) loss: 1.245949\n",
      "(Iteration 1861 / 2450) loss: 1.570923\n",
      "(Iteration 1871 / 2450) loss: 1.303543\n",
      "(Iteration 1881 / 2450) loss: 1.403345\n",
      "(Iteration 1891 / 2450) loss: 1.199779\n",
      "(Iteration 1901 / 2450) loss: 1.225740\n",
      "(Iteration 1911 / 2450) loss: 1.333532\n",
      "(Iteration 1921 / 2450) loss: 1.316087\n",
      "(Iteration 1931 / 2450) loss: 1.234574\n",
      "(Iteration 1941 / 2450) loss: 1.340129\n",
      "(Iteration 1951 / 2450) loss: 1.180605\n",
      "(Epoch 4 / 5) train acc: 0.553000; val_acc: 0.498000\n",
      "(Iteration 1961 / 2450) loss: 1.329949\n",
      "(Iteration 1971 / 2450) loss: 1.738770\n",
      "(Iteration 1981 / 2450) loss: 1.509386\n",
      "(Iteration 1991 / 2450) loss: 1.187678\n",
      "(Iteration 2001 / 2450) loss: 1.426779\n",
      "(Iteration 2011 / 2450) loss: 1.400980\n",
      "(Iteration 2021 / 2450) loss: 1.195593\n",
      "(Iteration 2031 / 2450) loss: 1.327132\n",
      "(Iteration 2041 / 2450) loss: 1.327823\n",
      "(Iteration 2051 / 2450) loss: 1.613517\n",
      "(Iteration 2061 / 2450) loss: 1.296057\n",
      "(Iteration 2071 / 2450) loss: 1.266508\n",
      "(Iteration 2081 / 2450) loss: 1.225750\n",
      "(Iteration 2091 / 2450) loss: 1.422905\n",
      "(Iteration 2101 / 2450) loss: 1.266105\n",
      "(Iteration 2111 / 2450) loss: 1.390632\n",
      "(Iteration 2121 / 2450) loss: 1.581724\n",
      "(Iteration 2131 / 2450) loss: 1.399711\n",
      "(Iteration 2141 / 2450) loss: 1.348096\n",
      "(Iteration 2151 / 2450) loss: 1.445781\n",
      "(Iteration 2161 / 2450) loss: 1.417292\n",
      "(Iteration 2171 / 2450) loss: 1.484983\n",
      "(Iteration 2181 / 2450) loss: 1.470714\n",
      "(Iteration 2191 / 2450) loss: 1.422312\n",
      "(Iteration 2201 / 2450) loss: 1.373560\n",
      "(Iteration 2211 / 2450) loss: 1.249972\n",
      "(Iteration 2221 / 2450) loss: 1.305852\n",
      "(Iteration 2231 / 2450) loss: 1.212919\n",
      "(Iteration 2241 / 2450) loss: 1.331766\n",
      "(Iteration 2251 / 2450) loss: 1.243730\n",
      "(Iteration 2261 / 2450) loss: 1.372315\n",
      "(Iteration 2271 / 2450) loss: 1.485171\n",
      "(Iteration 2281 / 2450) loss: 1.282792\n",
      "(Iteration 2291 / 2450) loss: 1.544492\n",
      "(Iteration 2301 / 2450) loss: 1.393278\n",
      "(Iteration 2311 / 2450) loss: 1.455246\n",
      "(Iteration 2321 / 2450) loss: 1.436306\n",
      "(Iteration 2331 / 2450) loss: 1.216299\n",
      "(Iteration 2341 / 2450) loss: 1.566670\n",
      "(Iteration 2351 / 2450) loss: 1.267105\n",
      "(Iteration 2361 / 2450) loss: 1.107213\n",
      "(Iteration 2371 / 2450) loss: 1.307111\n",
      "(Iteration 2381 / 2450) loss: 1.545307\n",
      "(Iteration 2391 / 2450) loss: 1.505415\n",
      "(Iteration 2401 / 2450) loss: 1.259217\n",
      "(Iteration 2411 / 2450) loss: 1.430668\n",
      "(Iteration 2421 / 2450) loss: 1.448723\n",
      "(Iteration 2431 / 2450) loss: 1.368522\n",
      "(Iteration 2441 / 2450) loss: 1.543934\n",
      "(Epoch 5 / 5) train acc: 0.532000; val_acc: 0.514000\n"
     ]
    },
    {
     "data": {
      "text/plain": [
       "0.514"
      ]
     },
     "execution_count": 24,
     "metadata": {},
     "output_type": "execute_result"
    }
   ],
   "source": [
    "model = TwoLayerNet()\n",
    "solver = None\n",
    "best_val = -1\n",
    "##############################################################################\n",
    "# TODO: Use a Solver instance to train a TwoLayerNet that achieves at least  #\n",
    "# 50% accuracy on the validation set.                                        #\n",
    "##############################################################################\n",
    "# *****START OF YOUR CODE (DO NOT DELETE/MODIFY THIS LINE)*****\n",
    "\n",
    "solver = Solver(model,data=data,verbose=True,optim_config={\"learning_rate\":5e-4},lr_decay=1,num_epochs=5)\n",
    "solver.train()\n",
    "best_val = solver.best_val_acc #solver.check_accuracy(data['X_test'],data['y_test'])\n",
    "best_val\n",
    "# *****END OF YOUR CODE (DO NOT DELETE/MODIFY THIS LINE)*****\n",
    "##############################################################################\n",
    "#                             END OF YOUR CODE                               #\n",
    "##############################################################################"
   ]
  },
  {
   "cell_type": "code",
   "execution_count": null,
   "metadata": {},
   "outputs": [
    {
     "data": {
      "image/png": "[encoded data removed]",
      "text/plain": [
       "<Figure size 1080x864 with 2 Axes>"
      ]
     },
     "metadata": {
      "needs_background": "light"
     },
     "output_type": "display_data"
    }
   ],
   "source": [
    "# Run this cell to visualize training loss and train / val accuracy\n",
    "\n",
    "plt.subplot(2, 1, 1)\n",
    "plt.title('Training loss')\n",
    "plt.plot(solver.loss_history, 'o')\n",
    "plt.xlabel('Iteration')\n",
    "\n",
    "plt.subplot(2, 1, 2)\n",
    "plt.title('Accuracy')\n",
    "plt.plot(solver.train_acc_history, '-o', label='train')\n",
    "plt.plot(solver.val_acc_history, '-o', label='val')\n",
    "plt.plot([0.5] * len(solver.val_acc_history), 'k--')\n",
    "plt.xlabel('Epoch')\n",
    "plt.legend(loc='lower right')\n",
    "plt.gcf().set_size_inches(15, 12)\n",
    "plt.show()"
   ]
  },
  {
   "cell_type": "markdown",
   "metadata": {},
   "source": [
    "# Multilayer network\n",
    "Next you will implement a fully-connected network with an arbitrary number of hidden layers.\n",
    "\n",
    "Read through the `FullyConnectedNet` class in the file `CV7062610/classifiers/fc_net.py`.\n",
    "\n",
    "Implement the initialization, the forward pass, and the backward pass. For the moment don't worry about implementing dropout or batch/layer normalization; we will add those features soon."
   ]
  },
  {
   "cell_type": "markdown",
   "metadata": {},
   "source": [
    "## Initial loss and gradient check\n",
    "\n",
    "As a sanity check, run the following to check the initial loss and to gradient check the network both with and without regularization. Do the initial losses seem reasonable?\n",
    "\n",
    "For gradient checking, you should expect to see errors around 1e-7 or less."
   ]
  },
  {
   "cell_type": "code",
   "execution_count": null,
   "metadata": {},
   "outputs": [
    {
     "name": "stdout",
     "output_type": "stream",
     "text": [
      "Running check with reg =  0\n",
      "Initial loss:  2.3004790897684924\n",
      "W1 relative error: 7.70e-08\n",
      "W2 relative error: 1.01e-05\n",
      "W3 relative error: 4.56e-07\n",
      "b1 relative error: 4.66e-09\n",
      "b2 relative error: 2.09e-09\n",
      "b3 relative error: 1.64e-10\n",
      "Running check with reg =  0.7\n",
      "Initial loss:  3.3606694235873547\n",
      "W1 relative error: 4.71e-08\n",
      "W2 relative error: 2.20e-07\n",
      "W3 relative error: 1.66e-07\n",
      "b1 relative error: 1.48e-08\n",
      "b2 relative error: 9.48e-10\n",
      "b3 relative error: 1.32e-10\n",
      "Running check with reg =  1\n",
      "Initial loss:  3.776019363337085\n",
      "W1 relative error: 1.18e-07\n",
      "W2 relative error: 1.10e-07\n",
      "W3 relative error: 1.05e-07\n",
      "b1 relative error: 4.45e-09\n",
      "b2 relative error: 1.02e-08\n",
      "b3 relative error: 1.25e-10\n",
      "Running check with reg =  3.14\n",
      "Initial loss:  6.704192305650366\n",
      "W1 relative error: 7.47e-09\n",
      "W2 relative error: 1.26e-08\n",
      "W3 relative error: 9.18e-08\n",
      "b1 relative error: 4.29e-07\n",
      "b2 relative error: 1.83e-08\n",
      "b3 relative error: 1.02e-10\n"
     ]
    }
   ],
   "source": [
    "np.random.seed(231)\n",
    "N, D, H1, H2, C = 2, 15, 20, 30, 10\n",
    "X = np.random.randn(N, D)\n",
    "y = np.random.randint(C, size=(N,))\n",
    "\n",
    "for reg in [0, 0.7,1,3.14]:\n",
    "  print('Running check with reg = ', reg)\n",
    "  model = FullyConnectedNet([H1, H2], input_dim=D, num_classes=C,\n",
    "                            reg=reg, weight_scale=5e-2, dtype=np.float64)\n",
    "\n",
    "  loss, grads = model.loss(X, y)\n",
    "  print('Initial loss: ', loss)\n",
    "  \n",
    "  # Most of the errors should be on the order of e-7 or smaller.   \n",
    "  # NOTE: It is fine however to see an error for W2 on the order of e-5\n",
    "  # for the check when reg = 0.0\n",
    "  for name in sorted(grads):\n",
    "    f = lambda _: model.loss(X, y)[0]\n",
    "    grad_num = eval_numerical_gradient(f, model.params[name], verbose=False, h=1e-5)\n",
    "    print('%s relative error: %.2e' % (name, rel_error(grad_num, grads[name])))\n",
    "  \n",
    "  \n",
    "  "
   ]
  },
  {
   "cell_type": "markdown",
   "metadata": {},
   "source": [
    "As another sanity check, make sure you can overfit a small dataset of 50 images. First we will try a three-layer network with 100 units in each hidden layer. In the following cell, tweak the **learning rate** and **weight initialization scale** to overfit and achieve 100% training accuracy within 20 epochs."
   ]
  },
  {
   "cell_type": "code",
   "execution_count": null,
   "metadata": {
    "scrolled": false
   },
   "outputs": [
    {
     "name": "stdout",
     "output_type": "stream",
     "text": [
      "(Iteration 1 / 40) loss: 2.267645\n",
      "(Epoch 0 / 20) train acc: 0.260000; val_acc: 0.123000\n",
      "(Epoch 1 / 20) train acc: 0.380000; val_acc: 0.115000\n",
      "(Epoch 2 / 20) train acc: 0.560000; val_acc: 0.151000\n",
      "(Epoch 3 / 20) train acc: 0.440000; val_acc: 0.151000\n",
      "(Epoch 4 / 20) train acc: 0.560000; val_acc: 0.163000\n",
      "(Epoch 5 / 20) train acc: 0.620000; val_acc: 0.176000\n",
      "(Iteration 11 / 40) loss: 1.201905\n",
      "(Epoch 6 / 20) train acc: 0.700000; val_acc: 0.168000\n",
      "(Epoch 7 / 20) train acc: 0.720000; val_acc: 0.155000\n",
      "(Epoch 8 / 20) train acc: 0.820000; val_acc: 0.195000\n",
      "(Epoch 9 / 20) train acc: 0.900000; val_acc: 0.197000\n",
      "(Epoch 10 / 20) train acc: 0.800000; val_acc: 0.171000\n",
      "(Iteration 21 / 40) loss: 0.652123\n",
      "(Epoch 11 / 20) train acc: 0.880000; val_acc: 0.186000\n",
      "(Epoch 12 / 20) train acc: 0.820000; val_acc: 0.175000\n",
      "(Epoch 13 / 20) train acc: 0.960000; val_acc: 0.189000\n",
      "(Epoch 14 / 20) train acc: 0.980000; val_acc: 0.195000\n",
      "(Epoch 15 / 20) train acc: 1.000000; val_acc: 0.193000\n",
      "(Iteration 31 / 40) loss: 0.198793\n",
      "(Epoch 16 / 20) train acc: 1.000000; val_acc: 0.178000\n",
      "(Epoch 17 / 20) train acc: 1.000000; val_acc: 0.191000\n",
      "(Epoch 18 / 20) train acc: 1.000000; val_acc: 0.193000\n",
      "(Epoch 19 / 20) train acc: 1.000000; val_acc: 0.208000\n",
      "(Epoch 20 / 20) train acc: 1.000000; val_acc: 0.199000\n"
     ]
    },
    {
     "data": {
      "image/png": "[encoded data removed]",
      "text/plain": [
       "<Figure size 720x576 with 1 Axes>"
      ]
     },
     "metadata": {
      "needs_background": "light"
     },
     "output_type": "display_data"
    }
   ],
   "source": [
    "# TODO: Use a three-layer Net to overfit 50 training examples by \n",
    "# tweaking just the learning rate and initialization scale.\n",
    "\n",
    "num_train = 50\n",
    "small_data = {\n",
    "  'X_train': data['X_train'][:num_train],\n",
    "  'y_train': data['y_train'][:num_train],\n",
    "  'X_val': data['X_val'],\n",
    "  'y_val': data['y_val'],\n",
    "}\n",
    "\n",
    "##### TODO: find the best lr and wight scale ##########\n",
    "weight_scale = 1e-2   # Experiment with this!\n",
    "learning_rate = 7.5e-3  # Experiment with this!\n",
    "#######################################################\n",
    "model = FullyConnectedNet([100, 100],\n",
    "              weight_scale=weight_scale, dtype=np.float64)\n",
    "solver = Solver(model, small_data,\n",
    "                print_every=10, num_epochs=20, batch_size=25,\n",
    "                update_rule='sgd',\n",
    "                optim_config={\n",
    "                  'learning_rate': learning_rate,\n",
    "                }\n",
    "         )\n",
    "solver.train()\n",
    "\n",
    "plt.plot(solver.loss_history, 'o')\n",
    "plt.title('Training loss history')\n",
    "plt.xlabel('Iteration')\n",
    "plt.ylabel('Training loss')\n",
    "plt.show()"
   ]
  },
  {
   "cell_type": "markdown",
   "metadata": {},
   "source": [
    "Now try to use a five-layer network with 100 units on each layer to overfit 50 training examples. Again, you will have to adjust the learning rate and weight initialization scale, but you should be able to achieve 100% training accuracy within 20 epochs."
   ]
  },
  {
   "cell_type": "code",
   "execution_count": null,
   "metadata": {},
   "outputs": [
    {
     "name": "stdout",
     "output_type": "stream",
     "text": [
      "(Iteration 1 / 40) loss: 10.265410\n",
      "(Epoch 0 / 20) train acc: 0.240000; val_acc: 0.107000\n",
      "(Epoch 1 / 20) train acc: 0.360000; val_acc: 0.101000\n",
      "(Epoch 2 / 20) train acc: 0.400000; val_acc: 0.113000\n",
      "(Epoch 3 / 20) train acc: 0.500000; val_acc: 0.119000\n",
      "(Epoch 4 / 20) train acc: 0.560000; val_acc: 0.122000\n",
      "(Epoch 5 / 20) train acc: 0.620000; val_acc: 0.113000\n",
      "(Iteration 11 / 40) loss: 1.682481\n",
      "(Epoch 6 / 20) train acc: 0.660000; val_acc: 0.120000\n",
      "(Epoch 7 / 20) train acc: 0.700000; val_acc: 0.123000\n",
      "(Epoch 8 / 20) train acc: 0.840000; val_acc: 0.123000\n",
      "(Epoch 9 / 20) train acc: 0.940000; val_acc: 0.121000\n",
      "(Epoch 10 / 20) train acc: 0.960000; val_acc: 0.123000\n",
      "(Iteration 21 / 40) loss: 0.260101\n",
      "(Epoch 11 / 20) train acc: 0.940000; val_acc: 0.127000\n",
      "(Epoch 12 / 20) train acc: 0.980000; val_acc: 0.127000\n",
      "(Epoch 13 / 20) train acc: 0.980000; val_acc: 0.127000\n",
      "(Epoch 14 / 20) train acc: 1.000000; val_acc: 0.126000\n",
      "(Epoch 15 / 20) train acc: 1.000000; val_acc: 0.123000\n",
      "(Iteration 31 / 40) loss: 0.079442\n",
      "(Epoch 16 / 20) train acc: 1.000000; val_acc: 0.123000\n",
      "(Epoch 17 / 20) train acc: 1.000000; val_acc: 0.123000\n",
      "(Epoch 18 / 20) train acc: 1.000000; val_acc: 0.122000\n",
      "(Epoch 19 / 20) train acc: 1.000000; val_acc: 0.122000\n",
      "(Epoch 20 / 20) train acc: 1.000000; val_acc: 0.123000\n"
     ]
    },
    {
     "data": {
      "image/png": "[encoded data removed]",
      "text/plain": [
       "<Figure size 720x576 with 1 Axes>"
      ]
     },
     "metadata": {
      "needs_background": "light"
     },
     "output_type": "display_data"
    }
   ],
   "source": [
    "# TODO: Use a five-layer Net to overfit 50 training examples by \n",
    "# tweaking just the learning rate and initialization scale.\n",
    "\n",
    "num_train = 50\n",
    "small_data = {\n",
    "  'X_train': data['X_train'][:num_train],\n",
    "  'y_train': data['y_train'][:num_train],\n",
    "  'X_val': data['X_val'],\n",
    "  'y_val': data['y_val'],\n",
    "}\n",
    "\n",
    "##### TODO: find the best lr and wight scale ##########\n",
    "learning_rate = 4e-4  # Experiment with this!\n",
    "weight_scale = 7e-2  # Experiment with this!\n",
    "#######################################################\n",
    "model = FullyConnectedNet([100, 100, 100, 100],\n",
    "                weight_scale=weight_scale, dtype=np.float64)\n",
    "solver = Solver(model, small_data,\n",
    "                print_every=10, num_epochs=20, batch_size=25,\n",
    "                update_rule='sgd',\n",
    "                optim_config={\n",
    "                  'learning_rate': learning_rate,\n",
    "                }\n",
    "         )\n",
    "solver.train()\n",
    "\n",
    "plt.plot(solver.loss_history, 'o')\n",
    "plt.title('Training loss history')\n",
    "plt.xlabel('Iteration')\n",
    "plt.ylabel('Training loss')\n",
    "plt.show()"
   ]
  },
  {
   "cell_type": "markdown",
   "metadata": {
    "tags": [
     "pdf-inline"
    ]
   },
   "source": [
    "## Inline Question 2: \n",
    "Did you notice anything about the comparative difficulty of training the three-layer net vs training the five layer net? In particular, based on your experience, which network seemed more sensitive to the initialization scale? Why do you think that is the case?\n",
    "\n",
    "## Answer:\n",
    "[FILL THIS IN]\n"
   ]
  },
  {
   "cell_type": "markdown",
   "metadata": {},
   "source": [
    "# Train a good model!\n",
    "Train the best fully-connected model that you can on CIFAR-10, storing your best model in the `best_model` variable. We require you to get at least 40% accuracy on the validation set using a fully-connected net. Using sgd this shouldn't take more than 5 minuts per traing over 10 epochs.\n",
    "\n",
    "If you are careful it should be possible to get accuracies above 55%, but we don't require it for this part and won't assign extra credit for doing so. Later in the assignment we will ask you to train the best convolutional network that you can on CIFAR-10, and we would prefer that you spend your effort working on convolutional nets rather than fully-connected nets."
   ]
  },
  {
   "cell_type": "code",
   "execution_count": null,
   "metadata": {
    "scrolled": false
   },
   "outputs": [
    {
     "name": "stdout",
     "output_type": "stream",
     "text": [
      "(Iteration 1 / 3820) loss: 3.217971\n",
      "(Epoch 0 / 10) train acc: 0.109000; val_acc: 0.099000\n",
      "(Iteration 101 / 3820) loss: 2.200200\n",
      "(Iteration 201 / 3820) loss: 1.959342\n",
      "(Iteration 301 / 3820) loss: 2.076795\n",
      "(Epoch 1 / 10) train acc: 0.341000; val_acc: 0.312000\n",
      "(Iteration 401 / 3820) loss: 1.938179\n",
      "(Iteration 501 / 3820) loss: 1.681200\n",
      "(Iteration 601 / 3820) loss: 1.777020\n"
     ]
    },
    {
     "ename": "KeyboardInterrupt",
     "evalue": "",
     "output_type": "error",
     "traceback": [
      "\u001b[1;31m---------------------------------------------------------------------------\u001b[0m",
      "\u001b[1;31mKeyboardInterrupt\u001b[0m                         Traceback (most recent call last)",
      "\u001b[1;32mc:\\Users\\Admin\\Desktop\\university\\year 3\\Semester 2\\computer vision\\Computer-vision-and-AI-ex-2\\assignment2\\FullyConnectedNets.ipynb Cell 35\u001b[0m in \u001b[0;36m<module>\u001b[1;34m\u001b[0m\n\u001b[0;32m     <a href='vscode-notebook-cell:/c%3A/Users/Admin/Desktop/university/year%203/Semester%202/computer%20vision/Computer-vision-and-AI-ex-2/assignment2/FullyConnectedNets.ipynb#X46sZmlsZQ%3D%3D?line=33'>34</a>\u001b[0m model \u001b[39m=\u001b[39m FullyConnectedNet(dims,\n\u001b[0;32m     <a href='vscode-notebook-cell:/c%3A/Users/Admin/Desktop/university/year%203/Semester%202/computer%20vision/Computer-vision-and-AI-ex-2/assignment2/FullyConnectedNets.ipynb#X46sZmlsZQ%3D%3D?line=34'>35</a>\u001b[0m     weight_scale\u001b[39m=\u001b[39mws, dtype\u001b[39m=\u001b[39mnp\u001b[39m.\u001b[39mfloat64)\n\u001b[0;32m     <a href='vscode-notebook-cell:/c%3A/Users/Admin/Desktop/university/year%203/Semester%202/computer%20vision/Computer-vision-and-AI-ex-2/assignment2/FullyConnectedNets.ipynb#X46sZmlsZQ%3D%3D?line=35'>36</a>\u001b[0m solver \u001b[39m=\u001b[39m Solver(model, data,\n\u001b[0;32m     <a href='vscode-notebook-cell:/c%3A/Users/Admin/Desktop/university/year%203/Semester%202/computer%20vision/Computer-vision-and-AI-ex-2/assignment2/FullyConnectedNets.ipynb#X46sZmlsZQ%3D%3D?line=36'>37</a>\u001b[0m                 print_every\u001b[39m=\u001b[39m\u001b[39m100\u001b[39m, num_epochs\u001b[39m=\u001b[39m\u001b[39m10\u001b[39m, batch_size\u001b[39m=\u001b[39mbatch_sizes[\u001b[39m0\u001b[39m],\n\u001b[0;32m     <a href='vscode-notebook-cell:/c%3A/Users/Admin/Desktop/university/year%203/Semester%202/computer%20vision/Computer-vision-and-AI-ex-2/assignment2/FullyConnectedNets.ipynb#X46sZmlsZQ%3D%3D?line=37'>38</a>\u001b[0m                 update_rule\u001b[39m=\u001b[39m\u001b[39m'\u001b[39m\u001b[39msgd\u001b[39m\u001b[39m'\u001b[39m,\n\u001b[1;32m   (...)\u001b[0m\n\u001b[0;32m     <a href='vscode-notebook-cell:/c%3A/Users/Admin/Desktop/university/year%203/Semester%202/computer%20vision/Computer-vision-and-AI-ex-2/assignment2/FullyConnectedNets.ipynb#X46sZmlsZQ%3D%3D?line=40'>41</a>\u001b[0m                 }\n\u001b[0;32m     <a href='vscode-notebook-cell:/c%3A/Users/Admin/Desktop/university/year%203/Semester%202/computer%20vision/Computer-vision-and-AI-ex-2/assignment2/FullyConnectedNets.ipynb#X46sZmlsZQ%3D%3D?line=41'>42</a>\u001b[0m         )\n\u001b[1;32m---> <a href='vscode-notebook-cell:/c%3A/Users/Admin/Desktop/university/year%203/Semester%202/computer%20vision/Computer-vision-and-AI-ex-2/assignment2/FullyConnectedNets.ipynb#X46sZmlsZQ%3D%3D?line=42'>43</a>\u001b[0m solver\u001b[39m.\u001b[39;49mtrain()\n\u001b[0;32m     <a href='vscode-notebook-cell:/c%3A/Users/Admin/Desktop/university/year%203/Semester%202/computer%20vision/Computer-vision-and-AI-ex-2/assignment2/FullyConnectedNets.ipynb#X46sZmlsZQ%3D%3D?line=44'>45</a>\u001b[0m val_accuracy \u001b[39m=\u001b[39m solver\u001b[39m.\u001b[39mbest_val_acc\n\u001b[0;32m     <a href='vscode-notebook-cell:/c%3A/Users/Admin/Desktop/university/year%203/Semester%202/computer%20vision/Computer-vision-and-AI-ex-2/assignment2/FullyConnectedNets.ipynb#X46sZmlsZQ%3D%3D?line=46'>47</a>\u001b[0m results[(lr, reg, k,ws)] \u001b[39m=\u001b[39m val_accuracy\n",
      "File \u001b[1;32mc:\\Users\\Admin\\Desktop\\university\\year 3\\Semester 2\\computer vision\\Computer-vision-and-AI-ex-2\\assignment2\\CV7062610\\solver.py:263\u001b[0m, in \u001b[0;36mSolver.train\u001b[1;34m(self)\u001b[0m\n\u001b[0;32m    260\u001b[0m num_iterations \u001b[39m=\u001b[39m \u001b[39mself\u001b[39m\u001b[39m.\u001b[39mnum_epochs \u001b[39m*\u001b[39m iterations_per_epoch\n\u001b[0;32m    262\u001b[0m \u001b[39mfor\u001b[39;00m t \u001b[39min\u001b[39;00m \u001b[39mrange\u001b[39m(num_iterations):\n\u001b[1;32m--> 263\u001b[0m     \u001b[39mself\u001b[39;49m\u001b[39m.\u001b[39;49m_step()\n\u001b[0;32m    265\u001b[0m     \u001b[39m# Maybe print training loss\u001b[39;00m\n\u001b[0;32m    266\u001b[0m     \u001b[39mif\u001b[39;00m \u001b[39mself\u001b[39m\u001b[39m.\u001b[39mverbose \u001b[39mand\u001b[39;00m t \u001b[39m%\u001b[39m \u001b[39mself\u001b[39m\u001b[39m.\u001b[39mprint_every \u001b[39m==\u001b[39m \u001b[39m0\u001b[39m:\n",
      "File \u001b[1;32mc:\\Users\\Admin\\Desktop\\university\\year 3\\Semester 2\\computer vision\\Computer-vision-and-AI-ex-2\\assignment2\\CV7062610\\solver.py:188\u001b[0m, in \u001b[0;36mSolver._step\u001b[1;34m(self)\u001b[0m\n\u001b[0;32m    186\u001b[0m dw \u001b[39m=\u001b[39m grads[p]\n\u001b[0;32m    187\u001b[0m config \u001b[39m=\u001b[39m \u001b[39mself\u001b[39m\u001b[39m.\u001b[39moptim_configs[p]\n\u001b[1;32m--> 188\u001b[0m next_w, next_config \u001b[39m=\u001b[39m \u001b[39mself\u001b[39;49m\u001b[39m.\u001b[39;49mupdate_rule(w, dw, config)\n\u001b[0;32m    189\u001b[0m \u001b[39mself\u001b[39m\u001b[39m.\u001b[39mmodel\u001b[39m.\u001b[39mparams[p] \u001b[39m=\u001b[39m next_w\n\u001b[0;32m    190\u001b[0m \u001b[39mself\u001b[39m\u001b[39m.\u001b[39moptim_configs[p] \u001b[39m=\u001b[39m next_config\n",
      "\u001b[1;31mKeyboardInterrupt\u001b[0m: "
     ]
    }
   ],
   "source": [
    "best_model = None\n",
    "best_val = 0.0\n",
    "################################################################################\n",
    "# TODO: Train the best FullyConnectedNet that you can on CIFAR-10. You might   #\n",
    "# find batch/layer normalization and dropout useful. Store your best model in  #\n",
    "# the best_model variable.                                                     #\n",
    "################################################################################\n",
    "# *****START OF YOUR CODE (DO NOT DELETE/MODIFY THIS LINE)*****\n",
    "results = {}\n",
    "\n",
    "\n",
    "learning_rates_count=5\n",
    "learning_rates_ = [2e-6,3e-6]\n",
    "learning_rates = np.linspace(learning_rates_[0],learning_rates_[1], endpoint=True,num=learning_rates_count)\n",
    "learning_rates = [0.0015]\n",
    "\n",
    "regularization_strengths_count=5\n",
    "regularization_strengths_ = [1e3,2e3]\n",
    "regularization_strengths = np.linspace(regularization_strengths_[0],regularization_strengths_[1], endpoint=True,num=regularization_strengths_count)\n",
    "regularization_strengths = [0.00015]\n",
    "\n",
    "hidden_dims = {\"d1\":[256,256,512],\"d2\":[256,256,256],\"d3\":[512,256,256]}\n",
    "hidden_dims = {\"d1\":[512,256,256,256,128]}#,\"d2\":[512,256,256]}#,\"d3\":[512,512,256,256]}\n",
    "weight_scales = [4e-2]#7e-2,3e-2#\n",
    "\n",
    "batch_sizes = [128]\n",
    "for ws in weight_scales:\n",
    "    for k, dims in hidden_dims.items():\n",
    "        for lr in learning_rates:\n",
    "            for reg in regularization_strengths:\n",
    "                results[(lr, reg, k,ws)] = 0\n",
    "                \n",
    "                \n",
    "                model = FullyConnectedNet(dims,\n",
    "                    weight_scale=ws, dtype=np.float64)\n",
    "                solver = Solver(model, data,\n",
    "                                print_every=100, num_epochs=10, batch_size=batch_sizes[0],\n",
    "                                update_rule='sgd',\n",
    "                                optim_config={\n",
    "                                'learning_rate': lr,\n",
    "                                }\n",
    "                        )\n",
    "                solver.train()\n",
    "                \n",
    "                val_accuracy = solver.best_val_acc\n",
    "\n",
    "                results[(lr, reg, k,ws)] = val_accuracy\n",
    "                if(val_accuracy > best_val):\n",
    "                    best_val = val_accuracy\n",
    "                    best_model = model\n",
    "\n",
    "# *****END OF YOUR CODE (DO NOT DELETE/MODIFY THIS LINE)*****\n",
    "################################################################################\n",
    "#                              END OF YOUR CODE                                #\n",
    "################################################################################"
   ]
  },
  {
   "cell_type": "markdown",
   "metadata": {},
   "source": [
    "# Test your model!\n",
    "Run your best model on the validation and test sets. You should achieve above 50% accuracy on the validation set."
   ]
  },
  {
   "cell_type": "code",
   "execution_count": null,
   "metadata": {},
   "outputs": [
    {
     "name": "stdout",
     "output_type": "stream",
     "text": [
      "Validation set accuracy:  0.465\n",
      "Test set accuracy:  0.451\n"
     ]
    }
   ],
   "source": [
    "y_test_pred = np.argmax(best_model.loss(data['X_test']), axis=1)\n",
    "y_val_pred = np.argmax(best_model.loss(data['X_val']), axis=1)\n",
    "print('Validation set accuracy: ', (y_val_pred == data['y_val']).mean())\n",
    "print('Test set accuracy: ', (y_test_pred == data['y_test']).mean())"
   ]
  },
  {
   "cell_type": "code",
   "execution_count": null,
   "metadata": {},
   "outputs": [
    {
     "name": "stdout",
     "output_type": "stream",
     "text": [
      "{(0.001, 5e-05, 'd1', 0.02): 0.465}\n"
     ]
    }
   ],
   "source": [
    "print(results)"
   ]
  },
  {
   "cell_type": "code",
   "execution_count": null,
   "metadata": {},
   "outputs": [],
   "source": []
  }
 ],
 "metadata": {
  "kernelspec": {
   "display_name": "Python 3",
   "language": "python",
   "name": "python3"
  },
  "language_info": {
   "codemirror_mode": {
    "name": "ipython",
    "version": 3
   },
   "file_extension": ".py",
   "mimetype": "text/x-python",
   "name": "python",
   "nbconvert_exporter": "python",
   "pygments_lexer": "ipython3",
   "version": "3.10.1"
  },
  "vscode": {
   "interpreter": {
    "hash": "a42ccb73e7d9bfdf27e036f1d2b8b681e55fc0743cc5586bc2474d4a60f4b886"
   }
  }
 },
 "nbformat": 4,
 "nbformat_minor": 4
}
